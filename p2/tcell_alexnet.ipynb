{
 "cells": [
  {
   "cell_type": "code",
   "execution_count": 81,
   "metadata": {},
   "outputs": [],
   "source": [
    "import torch\n",
    "import torchvision\n",
    "import torchvision.datasets as datasets\n",
    "import torchvision.transforms as transforms\n",
    "import torch.optim as optim\n",
    "import torch.nn as nn\n",
    "import torch.nn.functional as F\n",
    "from torch.utils.data import Dataset, DataLoader\n",
    "#import matplotlib.pyplot as plt\n",
    "import numpy as np"
   ]
  },
  {
   "cell_type": "code",
   "execution_count": 82,
   "metadata": {},
   "outputs": [],
   "source": [
    "device=torch.device('cuda' if torch.cuda.is_available() else 'cpu')\n",
    "device\n",
    "CLASSES = 2"
   ]
  },
  {
   "cell_type": "code",
   "execution_count": 83,
   "metadata": {},
   "outputs": [],
   "source": [
    "class AlexNetCNN(nn.Module):\n",
    "    def __init__(self):\n",
    "        super().__init__()\n",
    "        #Layer1\n",
    "        self.conv1 = nn.Conv1d(in_channels=4,out_channels=96,kernel_size=11,stride=4)\n",
    "        \n",
    "        #Layer2\n",
    "        self.conv2 = nn.Conv1d(in_channels=96,out_channels=96,kernel_size=1)\n",
    "        \n",
    "        #Layer3\n",
    "        self.conv3 = nn.Conv1d(in_channels=96,out_channels=96,kernel_size=1)\n",
    "        self.pool1 = nn.MaxPool1d(kernel_size=3,stride=2)\n",
    "        \n",
    "        #Layer4\n",
    "        self.conv4 = nn.Conv1d(in_channels=96,out_channels=256,kernel_size=11,stride=4,padding=2)\n",
    "        \n",
    "        #Layer5\n",
    "        self.conv5 = nn.Conv1d(in_channels=256,out_channels=256,kernel_size=1)\n",
    "        \n",
    "        #Layer6\n",
    "        self.conv6 = nn.Conv1d(in_channels=256,out_channels=256,kernel_size=1)\n",
    "        self.pool2 = nn.MaxPool1d(kernel_size=3,stride=2)\n",
    "        \n",
    "        #Layer7\n",
    "        self.conv7 = nn.Conv1d(in_channels=256,out_channels=384,kernel_size=3,stride=1,padding=1)\n",
    "        \n",
    "        #Layer8\n",
    "        self.conv8 = nn.Conv1d(in_channels=384,out_channels=384,kernel_size=1)\n",
    "        \n",
    "        #Layer9\n",
    "        self.conv9 = nn.Conv1d(in_channels=384,out_channels=384,kernel_size=1)\n",
    "        \n",
    "        #Layer10\n",
    "        self.fc1 = nn.Linear(in_features=(384 * 15),out_features=4096)\n",
    "        \n",
    "        #Layer11\n",
    "        self.fc2 = nn.Linear(in_features=(4096),out_features=4096)\n",
    "        \n",
    "        #Layer12\n",
    "        self.fc3 = nn.Linear(in_features=(4096),out_features=CLASSES)\n",
    "        \n",
    "    def forward(self, x):\n",
    "        #Layer1\n",
    "        x = F.relu(self.conv1(x))\n",
    "        \n",
    "        #Layer2\n",
    "        x = F.relu(self.conv2(x))\n",
    "        \n",
    "        #Layer3\n",
    "        x = F.relu(self.conv3(x))\n",
    "        x = self.pool1(x)\n",
    "        x = F.dropout(x, 0.5)\n",
    "        \n",
    "        #Layer4\n",
    "        x = F.relu(self.conv4(x))\n",
    "        \n",
    "        #Layer5\n",
    "        x = F.relu(self.conv5(x))\n",
    "        \n",
    "        #Layer6\n",
    "        x = F.relu(self.conv6(x))\n",
    "        x = self.pool2(x)\n",
    "        x = F.dropout(x, 0.5)\n",
    "        \n",
    "        #Layer7\n",
    "        x = F.relu(self.conv7(x))\n",
    "        \n",
    "        #Layer8\n",
    "        x = F.relu(self.conv8(x))\n",
    "        \n",
    "        #Layer9\n",
    "        x = F.relu(self.conv9(x))\n",
    "        x = F.dropout(x, 0.5)\n",
    "\n",
    "        x = torch.flatten(x, 1)\n",
    "        \n",
    "        #Layer10\n",
    "        x = F.relu(self.fc1(x))\n",
    "        x = F.dropout(x, 0.5)\n",
    "        \n",
    "        #Layer11\n",
    "        x = F.relu(self.fc2(x))\n",
    "        x = F.dropout(x, 0.5)\n",
    "        \n",
    "        #Layer12\n",
    "        x = F.relu(self.fc3(x))\n",
    "        \n",
    "        return x"
   ]
  },
  {
   "cell_type": "code",
   "execution_count": 84,
   "metadata": {},
   "outputs": [],
   "source": [
    "def analyze_data(input_file):\n",
    "    sequence_length = None\n",
    "    num_sequences = 0\n",
    "\n",
    "    with open(input_file, 'r') as file:\n",
    "        for line in file:\n",
    "            line = line.strip().split()\n",
    "            if sequence_length is None:\n",
    "                sequence_length = len(line[0])\n",
    "            elif len(line[0]) != sequence_length:\n",
    "                print(\"Error: Sequences have different lengths.\")\n",
    "                return\n",
    "\n",
    "            num_sequences += 1\n",
    "\n",
    "    return num_sequences, sequence_length"
   ]
  },
  {
   "cell_type": "code",
   "execution_count": 85,
   "metadata": {},
   "outputs": [],
   "source": [
    "# Reading in and encoding data\n",
    "def one_hot(input_file, seq_len, num_seq):\n",
    "    one_hot_data = np.zeros((num_seq, 4, seq_len), dtype=int)\n",
    "    seq_index = 0\n",
    "\n",
    "    with open(input_file, 'r') as inf:\n",
    "        sequences = list(i.split('\\t')[0] for i in inf)\n",
    "\n",
    "    for sequence in sequences:\n",
    "            \n",
    "        sequence = sequence.strip()\n",
    "        char_index = 0\n",
    "        \n",
    "        for char in sequence:\n",
    "            if char == 'a' or char == 'A':\n",
    "                one_hot_data[seq_index, 0, char_index] = 1\n",
    "            elif char == 'c' or char == 'C':\n",
    "                one_hot_data[seq_index, 1, char_index] = 1\n",
    "            elif char == 'g' or char == 'G':\n",
    "                one_hot_data[seq_index, 2, char_index] = 1\n",
    "            elif char == 't' or char == 'T':\n",
    "                one_hot_data[seq_index, 3, char_index] = 1\n",
    "            else:\n",
    "                print(\"encountered non-acgt\")\n",
    "            \n",
    "            char_index += 1\n",
    "        seq_index += 1\n",
    "\n",
    "    return one_hot_data"
   ]
  },
  {
   "cell_type": "code",
   "execution_count": 86,
   "metadata": {},
   "outputs": [
    {
     "name": "stdout",
     "output_type": "stream",
     "text": [
      "/users/sdelozi\n",
      "ENCFF027BPY_pos_enc.txt  FinalFileSmall.txt  T-cell-test.tsv\n",
      "ex_enc.txt\t\t T-cell-test2.tsv\n"
     ]
    }
   ],
   "source": [
    "! pwd\n",
    "! ls CS_590_HW/p2/enc/"
   ]
  },
  {
   "cell_type": "code",
   "execution_count": 87,
   "metadata": {},
   "outputs": [
    {
     "name": "stdout",
     "output_type": "stream",
     "text": [
      "[[[0 0 0 ... 0 1 0]\n",
      "  [1 0 0 ... 1 0 1]\n",
      "  [0 1 0 ... 0 0 0]\n",
      "  [0 0 1 ... 0 0 0]]\n",
      "\n",
      " [[0 0 0 ... 1 0 0]\n",
      "  [0 1 1 ... 0 0 0]\n",
      "  [0 0 0 ... 0 1 0]\n",
      "  [1 0 0 ... 0 0 1]]\n",
      "\n",
      " [[0 0 0 ... 0 1 0]\n",
      "  [1 0 0 ... 1 0 1]\n",
      "  [0 1 0 ... 0 0 0]\n",
      "  [0 0 1 ... 0 0 0]]\n",
      "\n",
      " ...\n",
      "\n",
      " [[0 0 0 ... 1 0 0]\n",
      "  [0 1 1 ... 0 0 0]\n",
      "  [0 0 0 ... 0 1 0]\n",
      "  [1 0 0 ... 0 0 1]]\n",
      "\n",
      " [[0 0 0 ... 0 1 0]\n",
      "  [1 0 0 ... 1 0 1]\n",
      "  [0 1 0 ... 0 0 0]\n",
      "  [0 0 1 ... 0 0 0]]\n",
      "\n",
      " [[0 0 0 ... 1 0 0]\n",
      "  [0 1 1 ... 0 0 0]\n",
      "  [0 0 0 ... 0 1 0]\n",
      "  [1 0 0 ... 0 0 1]]] [[[0 0 0 ... 0 1 0]\n",
      "  [1 0 0 ... 1 0 1]\n",
      "  [0 1 0 ... 0 0 0]\n",
      "  [0 0 1 ... 0 0 0]]\n",
      "\n",
      " [[0 0 0 ... 1 0 0]\n",
      "  [0 1 1 ... 0 0 0]\n",
      "  [0 0 0 ... 0 1 0]\n",
      "  [1 0 0 ... 0 0 1]]\n",
      "\n",
      " [[0 0 0 ... 0 1 0]\n",
      "  [1 0 0 ... 1 0 1]\n",
      "  [0 1 0 ... 0 0 0]\n",
      "  [0 0 1 ... 0 0 0]]\n",
      "\n",
      " ...\n",
      "\n",
      " [[0 0 0 ... 1 0 0]\n",
      "  [0 1 1 ... 0 0 0]\n",
      "  [0 0 0 ... 0 1 0]\n",
      "  [1 0 0 ... 0 0 1]]\n",
      "\n",
      " [[0 0 0 ... 0 1 0]\n",
      "  [1 0 0 ... 1 0 1]\n",
      "  [0 1 0 ... 0 0 0]\n",
      "  [0 0 1 ... 0 0 0]]\n",
      "\n",
      " [[0 0 0 ... 1 0 0]\n",
      "  [0 1 1 ... 0 0 0]\n",
      "  [0 0 0 ... 0 1 0]\n",
      "  [1 0 0 ... 0 0 1]]] [[[0 0 0 ... 0 1 0]\n",
      "  [1 0 0 ... 1 0 1]\n",
      "  [0 1 0 ... 0 0 0]\n",
      "  [0 0 1 ... 0 0 0]]\n",
      "\n",
      " [[0 0 0 ... 1 0 0]\n",
      "  [0 1 1 ... 0 0 0]\n",
      "  [0 0 0 ... 0 1 0]\n",
      "  [1 0 0 ... 0 0 1]]\n",
      "\n",
      " [[0 0 0 ... 0 1 0]\n",
      "  [1 0 0 ... 1 0 1]\n",
      "  [0 1 0 ... 0 0 0]\n",
      "  [0 0 1 ... 0 0 0]]\n",
      "\n",
      " ...\n",
      "\n",
      " [[0 0 0 ... 1 0 0]\n",
      "  [0 1 1 ... 0 0 0]\n",
      "  [0 0 0 ... 0 1 0]\n",
      "  [1 0 0 ... 0 0 1]]\n",
      "\n",
      " [[0 0 0 ... 0 1 0]\n",
      "  [1 0 0 ... 1 0 1]\n",
      "  [0 1 0 ... 0 0 0]\n",
      "  [0 0 1 ... 0 0 0]]\n",
      "\n",
      " [[0 0 0 ... 1 0 0]\n",
      "  [0 1 1 ... 0 0 0]\n",
      "  [0 0 0 ... 0 1 0]\n",
      "  [1 0 0 ... 0 0 1]]]\n"
     ]
    }
   ],
   "source": [
    "filein = \"/users/sdelozi/CS_590_HW/p2/enc/T-cell-test2.tsv\"\n",
    "num_seq, seq_len = analyze_data(filein)\n",
    "enc_data = one_hot(filein, seq_len, num_seq)\n",
    "with open(filein, 'r') as inf:\n",
    "    labels = np.array(list(float(i.split('\\t')[1][:1]) for i in inf))\n",
    "\n",
    "# 80/20 split\n",
    "enc_train_data, enc_test_data = np.split(enc_data, [int(0.8 * len(enc_data))])\n",
    "label_train, label_test = np.split(labels, [int(0.8 * len(labels))])\n",
    "print(enc_data, enc_train_data, enc_test_data)"
   ]
  },
  {
   "cell_type": "code",
   "execution_count": 88,
   "metadata": {},
   "outputs": [],
   "source": [
    "# Converting the data to tensor type and floating point type\n",
    "\n",
    "tensor_train_data = torch.from_numpy(enc_train_data).float()\n",
    "tensor_test_data = torch.from_numpy(enc_test_data).float()"
   ]
  },
  {
   "cell_type": "code",
   "execution_count": 89,
   "metadata": {},
   "outputs": [
    {
     "name": "stdout",
     "output_type": "stream",
     "text": [
      "torch.Size([1800, 4, 1066])\n",
      "torch.float32\n"
     ]
    }
   ],
   "source": [
    "print(tensor_train_data.shape)\n",
    "print(tensor_test_data.dtype)"
   ]
  },
  {
   "cell_type": "code",
   "execution_count": null,
   "metadata": {},
   "outputs": [],
   "source": []
  },
  {
   "cell_type": "code",
   "execution_count": 90,
   "metadata": {},
   "outputs": [],
   "source": [
    "\n",
    "# The most important class, a custom data loader\n",
    "\n",
    "class data_class(Dataset):\n",
    "    def __init__(self,data,label):\n",
    "        self.data=data\n",
    "        self.labels=torch.tensor(label)\n",
    "\n",
    "    def __len__(self):\n",
    "        return len(self.data) \n",
    "    \n",
    "    def __getitem__(self,id):\n",
    "        data_set=self.data[id]\n",
    "        labels=self.labels[id]\n",
    "\n",
    "        return data_set,labels"
   ]
  },
  {
   "cell_type": "code",
   "execution_count": 91,
   "metadata": {},
   "outputs": [],
   "source": [
    "# calling the data_class for the raw enc data\n",
    "\n",
    "train_data=data_class(tensor_train_data,label_train)\n",
    "test_data=data_class(tensor_test_data,label_test)"
   ]
  },
  {
   "cell_type": "code",
   "execution_count": 92,
   "metadata": {},
   "outputs": [],
   "source": [
    "# Creating the data loader which is going to load the data to the AI model\n",
    "\n",
    "train_dataloader=DataLoader(train_data,batch_size=10,shuffle=True)\n",
    "test_dataloader=DataLoader(test_data,batch_size=10,shuffle=True)"
   ]
  },
  {
   "cell_type": "code",
   "execution_count": 93,
   "metadata": {},
   "outputs": [],
   "source": [
    "# Instantiating the model and assigning an optimizer to the model and creating a loss function\n",
    "\n",
    "model=AlexNetCNN().to(device)\n",
    "optimizer=optim.Adam(params=model.parameters(),lr=0.0001)\n",
    "loss_fn = nn.CrossEntropyLoss()"
   ]
  },
  {
   "cell_type": "code",
   "execution_count": 94,
   "metadata": {},
   "outputs": [],
   "source": [
    "def train(model,device,train_dataloader,optimizer,epochs):\n",
    "    print(\"inside train\")\n",
    "    model.train()\n",
    "    for batch_ids, (seq, classes) in enumerate(train_dataloader):\n",
    "        classes=classes.type(torch.LongTensor)\n",
    "        seq,classes=seq.to(device),classes.to(device)\n",
    "        torch.autograd.set_detect_anomaly(True)     \n",
    "        optimizer.zero_grad()\n",
    "        output=model(seq)\n",
    "        loss = loss_fn(output,classes)                \n",
    "        \n",
    "        loss.backward()\n",
    "        optimizer.step()\n",
    "    if(batch_ids +1) % 2 == 0:\n",
    "        print(\"Train Epoch: {} [{}/{} ({:.0f}%)]\\tLoss: {:.6f}\".format(\n",
    "            epochs, batch_ids* len(seq), len(train_dataloader.dataset),\n",
    "            100.*batch_ids / len(train_dataloader),loss.item()))"
   ]
  },
  {
   "cell_type": "code",
   "execution_count": 95,
   "metadata": {},
   "outputs": [],
   "source": [
    "def test(model, device, test_dataloader):\n",
    "    model.eval()\n",
    "    test_loss=0\n",
    "    correct=0\n",
    "    with torch.no_grad():\n",
    "        for seq,classes in test_dataloader:\n",
    "            seq,classes=seq.to(device), classes.to(device)\n",
    "            y_hat=model(seq)\n",
    "            test_loss+=F.nll_loss(y_hat,classes.long(),reduction='sum').item()\n",
    "            _,y_pred=torch.max(y_hat,1)\n",
    "            correct+=(y_pred==classes).sum().item()\n",
    "        test_loss/=len(test_dataloader)\n",
    "        print(\"\\n Test set: Avarage loss: {:.0f},Accuracy:{}/{} ({:.0f}%)\\n\".format(\n",
    "            test_loss,correct,len(test_data),100.*correct/len(test_data)))\n",
    "        print('='*30)"
   ]
  },
  {
   "cell_type": "code",
   "execution_count": 96,
   "metadata": {},
   "outputs": [
    {
     "name": "stdout",
     "output_type": "stream",
     "text": [
      "inside train\n",
      "Train Epoch: 1 [1790/1800 (99%)]\tLoss: 0.693147\n",
      "\n",
      " Test set: Avarage loss: 0,Accuracy:600/1200 (50%)\n",
      "\n",
      "==============================\n",
      "inside train\n"
     ]
    },
    {
     "ename": "KeyboardInterrupt",
     "evalue": "",
     "output_type": "error",
     "traceback": [
      "\u001b[0;31m---------------------------------------------------------------------------\u001b[0m",
      "\u001b[0;31mKeyboardInterrupt\u001b[0m                         Traceback (most recent call last)",
      "Cell \u001b[0;32mIn[96], line 6\u001b[0m\n\u001b[1;32m      3\u001b[0m EPOCHS\u001b[38;5;241m=\u001b[39m\u001b[38;5;241m10\u001b[39m\n\u001b[1;32m      5\u001b[0m \u001b[38;5;28;01mfor\u001b[39;00m epoch \u001b[38;5;129;01min\u001b[39;00m \u001b[38;5;28mrange\u001b[39m(\u001b[38;5;241m1\u001b[39m,EPOCHS\u001b[38;5;241m+\u001b[39m\u001b[38;5;241m1\u001b[39m):\n\u001b[0;32m----> 6\u001b[0m     \u001b[43mtrain\u001b[49m\u001b[43m(\u001b[49m\u001b[43mmodel\u001b[49m\u001b[43m,\u001b[49m\u001b[43mdevice\u001b[49m\u001b[43m,\u001b[49m\u001b[43mtrain_dataloader\u001b[49m\u001b[43m,\u001b[49m\u001b[43moptimizer\u001b[49m\u001b[43m,\u001b[49m\u001b[43mepoch\u001b[49m\u001b[43m)\u001b[49m\n\u001b[1;32m      7\u001b[0m     test(model,device,test_dataloader)\n",
      "Cell \u001b[0;32mIn[94], line 12\u001b[0m, in \u001b[0;36mtrain\u001b[0;34m(model, device, train_dataloader, optimizer, epochs)\u001b[0m\n\u001b[1;32m      9\u001b[0m     output\u001b[38;5;241m=\u001b[39mmodel(seq)\n\u001b[1;32m     10\u001b[0m     loss \u001b[38;5;241m=\u001b[39m loss_fn(output,classes)                \n\u001b[0;32m---> 12\u001b[0m     \u001b[43mloss\u001b[49m\u001b[38;5;241;43m.\u001b[39;49m\u001b[43mbackward\u001b[49m\u001b[43m(\u001b[49m\u001b[43m)\u001b[49m\n\u001b[1;32m     13\u001b[0m     optimizer\u001b[38;5;241m.\u001b[39mstep()\n\u001b[1;32m     14\u001b[0m \u001b[38;5;28;01mif\u001b[39;00m(batch_ids \u001b[38;5;241m+\u001b[39m\u001b[38;5;241m1\u001b[39m) \u001b[38;5;241m%\u001b[39m \u001b[38;5;241m2\u001b[39m \u001b[38;5;241m==\u001b[39m \u001b[38;5;241m0\u001b[39m:\n",
      "File \u001b[0;32m~/miniconda3/envs/jupyter/lib/python3.9/site-packages/torch/_tensor.py:487\u001b[0m, in \u001b[0;36mTensor.backward\u001b[0;34m(self, gradient, retain_graph, create_graph, inputs)\u001b[0m\n\u001b[1;32m    477\u001b[0m \u001b[38;5;28;01mif\u001b[39;00m has_torch_function_unary(\u001b[38;5;28mself\u001b[39m):\n\u001b[1;32m    478\u001b[0m     \u001b[38;5;28;01mreturn\u001b[39;00m handle_torch_function(\n\u001b[1;32m    479\u001b[0m         Tensor\u001b[38;5;241m.\u001b[39mbackward,\n\u001b[1;32m    480\u001b[0m         (\u001b[38;5;28mself\u001b[39m,),\n\u001b[0;32m   (...)\u001b[0m\n\u001b[1;32m    485\u001b[0m         inputs\u001b[38;5;241m=\u001b[39minputs,\n\u001b[1;32m    486\u001b[0m     )\n\u001b[0;32m--> 487\u001b[0m \u001b[43mtorch\u001b[49m\u001b[38;5;241;43m.\u001b[39;49m\u001b[43mautograd\u001b[49m\u001b[38;5;241;43m.\u001b[39;49m\u001b[43mbackward\u001b[49m\u001b[43m(\u001b[49m\n\u001b[1;32m    488\u001b[0m \u001b[43m    \u001b[49m\u001b[38;5;28;43mself\u001b[39;49m\u001b[43m,\u001b[49m\u001b[43m \u001b[49m\u001b[43mgradient\u001b[49m\u001b[43m,\u001b[49m\u001b[43m \u001b[49m\u001b[43mretain_graph\u001b[49m\u001b[43m,\u001b[49m\u001b[43m \u001b[49m\u001b[43mcreate_graph\u001b[49m\u001b[43m,\u001b[49m\u001b[43m \u001b[49m\u001b[43minputs\u001b[49m\u001b[38;5;241;43m=\u001b[39;49m\u001b[43minputs\u001b[49m\n\u001b[1;32m    489\u001b[0m \u001b[43m\u001b[49m\u001b[43m)\u001b[49m\n",
      "File \u001b[0;32m~/miniconda3/envs/jupyter/lib/python3.9/site-packages/torch/autograd/__init__.py:197\u001b[0m, in \u001b[0;36mbackward\u001b[0;34m(tensors, grad_tensors, retain_graph, create_graph, grad_variables, inputs)\u001b[0m\n\u001b[1;32m    192\u001b[0m     retain_graph \u001b[38;5;241m=\u001b[39m create_graph\n\u001b[1;32m    194\u001b[0m \u001b[38;5;66;03m# The reason we repeat same the comment below is that\u001b[39;00m\n\u001b[1;32m    195\u001b[0m \u001b[38;5;66;03m# some Python versions print out the first line of a multi-line function\u001b[39;00m\n\u001b[1;32m    196\u001b[0m \u001b[38;5;66;03m# calls in the traceback and some print out the last line\u001b[39;00m\n\u001b[0;32m--> 197\u001b[0m \u001b[43mVariable\u001b[49m\u001b[38;5;241;43m.\u001b[39;49m\u001b[43m_execution_engine\u001b[49m\u001b[38;5;241;43m.\u001b[39;49m\u001b[43mrun_backward\u001b[49m\u001b[43m(\u001b[49m\u001b[43m  \u001b[49m\u001b[38;5;66;43;03m# Calls into the C++ engine to run the backward pass\u001b[39;49;00m\n\u001b[1;32m    198\u001b[0m \u001b[43m    \u001b[49m\u001b[43mtensors\u001b[49m\u001b[43m,\u001b[49m\u001b[43m \u001b[49m\u001b[43mgrad_tensors_\u001b[49m\u001b[43m,\u001b[49m\u001b[43m \u001b[49m\u001b[43mretain_graph\u001b[49m\u001b[43m,\u001b[49m\u001b[43m \u001b[49m\u001b[43mcreate_graph\u001b[49m\u001b[43m,\u001b[49m\u001b[43m \u001b[49m\u001b[43minputs\u001b[49m\u001b[43m,\u001b[49m\n\u001b[1;32m    199\u001b[0m \u001b[43m    \u001b[49m\u001b[43mallow_unreachable\u001b[49m\u001b[38;5;241;43m=\u001b[39;49m\u001b[38;5;28;43;01mTrue\u001b[39;49;00m\u001b[43m,\u001b[49m\u001b[43m \u001b[49m\u001b[43maccumulate_grad\u001b[49m\u001b[38;5;241;43m=\u001b[39;49m\u001b[38;5;28;43;01mTrue\u001b[39;49;00m\u001b[43m)\u001b[49m\n",
      "\u001b[0;31mKeyboardInterrupt\u001b[0m: "
     ]
    }
   ],
   "source": [
    "if __name__=='__main__':\n",
    "    seed=42\n",
    "    EPOCHS=10\n",
    "    \n",
    "    for epoch in range(1,EPOCHS+1):\n",
    "        train(model,device,train_dataloader,optimizer,epoch)\n",
    "        test(model,device,test_dataloader)"
   ]
  },
  {
   "cell_type": "code",
   "execution_count": null,
   "metadata": {},
   "outputs": [],
   "source": []
  }
 ],
 "metadata": {
  "kernelspec": {
   "display_name": "Python [conda env:jupyter] *",
   "language": "python",
   "name": "conda-env-jupyter-py"
  },
  "language_info": {
   "codemirror_mode": {
    "name": "ipython",
    "version": 3
   },
   "file_extension": ".py",
   "mimetype": "text/x-python",
   "name": "python",
   "nbconvert_exporter": "python",
   "pygments_lexer": "ipython3",
   "version": "3.9.18"
  }
 },
 "nbformat": 4,
 "nbformat_minor": 2
}
