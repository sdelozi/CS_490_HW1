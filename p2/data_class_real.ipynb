{
 "cells": [
  {
   "cell_type": "code",
   "execution_count": 4,
   "metadata": {},
   "outputs": [],
   "source": [
    "import torch\n",
    "import torchvision\n",
    "import torchvision.datasets as datasets\n",
    "import torchvision.transforms as transforms\n",
    "import torch.optim as optim\n",
    "import torch.nn as nn\n",
    "import torch.nn.functional as F\n",
    "from torch.utils.data import Dataset, DataLoader\n",
    "#import matplotlib.pyplot as plt\n",
    "import numpy as np"
   ]
  },
  {
   "cell_type": "code",
   "execution_count": 5,
   "metadata": {},
   "outputs": [
    {
     "data": {
      "text/plain": [
       "device(type='cpu')"
      ]
     },
     "execution_count": 5,
     "metadata": {},
     "output_type": "execute_result"
    }
   ],
   "source": [
    "device=torch.device('cuda' if torch.cuda.is_available() else 'cpu')\n",
    "device"
   ]
  },
  {
   "cell_type": "code",
   "execution_count": 21,
   "metadata": {},
   "outputs": [],
   "source": [
    "class MiniCNN(torch.nn.Module):\n",
    "  def __init__(self):\n",
    "    super(MiniCNN, self).__init__()\n",
    "    self.conv1 = torch.nn.Conv1d(4, 6, kernel_size=5) \n",
    "    self.pool = torch.nn.MaxPool1d(kernel_size=2, stride=2)  \n",
    "    self.conv2 = torch.nn.Conv1d(6, 16, kernel_size=3)  \n",
    "    self.fc1 = torch.nn.Linear(16 * 5 * 5, 120)  \n",
    "    self.fc2 = torch.nn.Linear(120, 2) \n",
    "\n",
    "  def forward(self, x):\n",
    "    x = self.pool(torch.nn.functional.relu(self.conv1(x)))  \n",
    "    x = self.pool(torch.nn.functional.relu(self.conv2(x))) \n",
    "    x = x.view(-1,16 * 5 * 5)  \n",
    "    x = torch.nn.functional.relu(self.fc1(x))  \n",
    "    x = self.fc2(x)  \n",
    "    return x"
   ]
  },
  {
   "cell_type": "code",
   "execution_count": 8,
   "metadata": {},
   "outputs": [],
   "source": [
    "# Reading in and encoding data\n",
    "def one_hot(input_file):\n",
    "    one_hot_data = np.zeros((20, 4, 120), dtype=int)\n",
    "    seq_index = 0\n",
    "\n",
    "    with open(input_file, 'r') as inf:\n",
    "        sequences = inf.readlines()\n",
    "\n",
    "    for sequence in sequences:\n",
    "            \n",
    "        sequence = sequence.strip()\n",
    "        char_index = 0\n",
    "        \n",
    "        for char in sequence:\n",
    "            if char == 'a' or char == 'A':\n",
    "                one_hot_data[seq_index, 0, char_index] = 1\n",
    "            elif char == 'c' or char == 'C':\n",
    "                one_hot_data[seq_index, 1, char_index] = 1\n",
    "            elif char == 'g' or char == 'G':\n",
    "                one_hot_data[seq_index, 2, char_index] = 1\n",
    "            elif char == 't' or char == 'T':\n",
    "                one_hot_data[seq_index, 3, char_index] = 1\n",
    "            else:\n",
    "                print(\"encountered non-acgt\")\n",
    "            \n",
    "            char_index += 1\n",
    "        seq_index += 1\n",
    "\n",
    "    return one_hot_data"
   ]
  },
  {
   "cell_type": "code",
   "execution_count": 10,
   "metadata": {},
   "outputs": [
    {
     "name": "stdout",
     "output_type": "stream",
     "text": [
      "[[[1 0 0 0 1 0 0 0 1 0]\n",
      "  [0 1 0 0 0 1 0 0 0 0]\n",
      "  [0 0 1 0 0 0 1 0 0 0]\n",
      "  [0 0 0 1 0 0 0 1 0 1]]\n",
      "\n",
      " [[0 0 0 0 1 0 0 1 0 1]\n",
      "  [0 0 1 0 0 1 0 0 0 0]\n",
      "  [0 1 0 0 0 0 1 0 0 0]\n",
      "  [1 0 0 1 0 0 0 0 1 0]]\n",
      "\n",
      " [[1 0 1 0 1 0 0 0 0 1]\n",
      "  [0 0 0 1 0 0 0 0 1 0]\n",
      "  [0 0 0 0 0 0 1 1 0 0]\n",
      "  [0 1 0 0 0 1 0 0 0 0]]\n",
      "\n",
      " [[0 0 1 0 0 0 1 0 1 1]\n",
      "  [1 1 0 0 0 0 0 1 0 0]\n",
      "  [0 0 0 0 0 1 0 0 0 0]\n",
      "  [0 0 0 1 1 0 0 0 0 0]]\n",
      "\n",
      " [[0 0 1 1 0 0 1 0 1 0]\n",
      "  [0 0 0 0 0 0 0 0 0 0]\n",
      "  [0 1 0 0 1 0 0 1 0 1]\n",
      "  [1 0 0 0 0 1 0 0 0 0]]\n",
      "\n",
      " [[0 0 0 1 0 0 0 0 1 0]\n",
      "  [1 0 0 0 0 0 1 0 0 0]\n",
      "  [0 1 0 0 1 0 0 1 0 0]\n",
      "  [0 0 1 0 0 1 0 0 0 1]]\n",
      "\n",
      " [[1 0 0 0 0 0 1 0 1 0]\n",
      "  [0 0 1 0 0 1 0 0 0 1]\n",
      "  [0 0 0 1 0 0 0 1 0 0]\n",
      "  [0 1 0 0 1 0 0 0 0 0]]\n",
      "\n",
      " [[1 0 0 0 1 0 0 0 1 0]\n",
      "  [0 0 1 0 0 0 0 0 0 0]\n",
      "  [0 0 0 1 0 0 1 0 0 1]\n",
      "  [0 1 0 0 0 1 0 1 0 0]]\n",
      "\n",
      " [[1 0 0 0 0 1 0 0 1 0]\n",
      "  [0 1 0 0 0 0 0 0 0 1]\n",
      "  [0 0 0 0 1 0 0 1 0 0]\n",
      "  [0 0 1 1 0 0 1 0 0 0]]\n",
      "\n",
      " [[1 0 0 1 0 0 0 1 0 0]\n",
      "  [0 1 0 0 0 1 0 0 0 0]\n",
      "  [0 0 0 0 0 0 1 0 0 1]\n",
      "  [0 0 1 0 1 0 0 0 1 0]]\n",
      "\n",
      " [[1 0 0 0 0 0 1 1 0 0]\n",
      "  [0 1 0 0 0 0 0 0 0 0]\n",
      "  [0 0 0 1 0 1 0 0 1 0]\n",
      "  [0 0 1 0 1 0 0 0 0 1]]\n",
      "\n",
      " [[0 0 0 0 1 0 0 0 1 0]\n",
      "  [1 0 0 0 0 1 0 0 0 1]\n",
      "  [0 1 0 1 0 0 1 0 0 0]\n",
      "  [0 0 1 0 0 0 0 1 0 0]]\n",
      "\n",
      " [[0 0 0 0 0 1 0 0 1 0]\n",
      "  [0 1 0 1 0 0 0 1 0 0]\n",
      "  [1 0 0 0 1 0 1 0 0 0]\n",
      "  [0 0 1 0 0 0 0 0 0 1]]\n",
      "\n",
      " [[0 0 1 0 1 0 0 1 0 0]\n",
      "  [1 0 0 0 0 0 0 0 1 0]\n",
      "  [0 0 0 1 0 1 0 0 0 1]\n",
      "  [0 1 0 0 0 0 1 0 0 0]]\n",
      "\n",
      " [[0 0 0 1 0 0 1 1 0 0]\n",
      "  [1 0 0 0 0 1 0 0 0 0]\n",
      "  [0 1 0 0 1 0 0 0 0 1]\n",
      "  [0 0 1 0 0 0 0 0 1 0]]\n",
      "\n",
      " [[0 0 1 0 0 1 0 0 0 0]\n",
      "  [0 1 0 0 1 0 0 0 0 1]\n",
      "  [1 0 0 0 0 0 1 0 1 0]\n",
      "  [0 0 0 1 0 0 0 1 0 0]]\n",
      "\n",
      " [[1 0 0 0 1 0 0 0 0 0]\n",
      "  [0 1 0 0 0 0 0 1 0 0]\n",
      "  [0 0 1 0 0 0 1 0 0 1]\n",
      "  [0 0 0 1 0 1 0 0 1 0]]\n",
      "\n",
      " [[0 1 0 0 1 0 0 0 0 1]\n",
      "  [1 0 0 0 0 0 1 0 1 0]\n",
      "  [0 0 1 0 0 1 0 0 0 0]\n",
      "  [0 0 0 1 0 0 0 1 0 0]]\n",
      "\n",
      " [[0 0 0 1 0 0 0 0 1 0]\n",
      "  [1 0 0 0 1 0 0 1 0 0]\n",
      "  [0 1 0 0 0 1 0 0 0 1]\n",
      "  [0 0 1 0 0 0 1 0 0 0]]\n",
      "\n",
      " [[1 0 0 0 0 1 0 0 0 0]\n",
      "  [0 1 0 0 0 0 1 0 0 1]\n",
      "  [0 0 1 0 0 0 0 1 0 0]\n",
      "  [0 0 0 1 1 0 0 0 1 0]]] [[[1 0 0 0 1 0 0 0 1 0]\n",
      "  [0 1 0 0 0 1 0 0 0 0]\n",
      "  [0 0 1 0 0 0 1 0 0 0]\n",
      "  [0 0 0 1 0 0 0 1 0 1]]\n",
      "\n",
      " [[0 0 0 0 1 0 0 1 0 1]\n",
      "  [0 0 1 0 0 1 0 0 0 0]\n",
      "  [0 1 0 0 0 0 1 0 0 0]\n",
      "  [1 0 0 1 0 0 0 0 1 0]]\n",
      "\n",
      " [[1 0 1 0 1 0 0 0 0 1]\n",
      "  [0 0 0 1 0 0 0 0 1 0]\n",
      "  [0 0 0 0 0 0 1 1 0 0]\n",
      "  [0 1 0 0 0 1 0 0 0 0]]\n",
      "\n",
      " [[0 0 1 0 0 0 1 0 1 1]\n",
      "  [1 1 0 0 0 0 0 1 0 0]\n",
      "  [0 0 0 0 0 1 0 0 0 0]\n",
      "  [0 0 0 1 1 0 0 0 0 0]]\n",
      "\n",
      " [[0 0 1 1 0 0 1 0 1 0]\n",
      "  [0 0 0 0 0 0 0 0 0 0]\n",
      "  [0 1 0 0 1 0 0 1 0 1]\n",
      "  [1 0 0 0 0 1 0 0 0 0]]\n",
      "\n",
      " [[0 0 0 1 0 0 0 0 1 0]\n",
      "  [1 0 0 0 0 0 1 0 0 0]\n",
      "  [0 1 0 0 1 0 0 1 0 0]\n",
      "  [0 0 1 0 0 1 0 0 0 1]]\n",
      "\n",
      " [[1 0 0 0 0 0 1 0 1 0]\n",
      "  [0 0 1 0 0 1 0 0 0 1]\n",
      "  [0 0 0 1 0 0 0 1 0 0]\n",
      "  [0 1 0 0 1 0 0 0 0 0]]\n",
      "\n",
      " [[1 0 0 0 1 0 0 0 1 0]\n",
      "  [0 0 1 0 0 0 0 0 0 0]\n",
      "  [0 0 0 1 0 0 1 0 0 1]\n",
      "  [0 1 0 0 0 1 0 1 0 0]]\n",
      "\n",
      " [[1 0 0 0 0 1 0 0 1 0]\n",
      "  [0 1 0 0 0 0 0 0 0 1]\n",
      "  [0 0 0 0 1 0 0 1 0 0]\n",
      "  [0 0 1 1 0 0 1 0 0 0]]\n",
      "\n",
      " [[1 0 0 1 0 0 0 1 0 0]\n",
      "  [0 1 0 0 0 1 0 0 0 0]\n",
      "  [0 0 0 0 0 0 1 0 0 1]\n",
      "  [0 0 1 0 1 0 0 0 1 0]]\n",
      "\n",
      " [[1 0 0 0 0 0 1 1 0 0]\n",
      "  [0 1 0 0 0 0 0 0 0 0]\n",
      "  [0 0 0 1 0 1 0 0 1 0]\n",
      "  [0 0 1 0 1 0 0 0 0 1]]\n",
      "\n",
      " [[0 0 0 0 1 0 0 0 1 0]\n",
      "  [1 0 0 0 0 1 0 0 0 1]\n",
      "  [0 1 0 1 0 0 1 0 0 0]\n",
      "  [0 0 1 0 0 0 0 1 0 0]]] [[[0 0 0 0 0 1 0 0 1 0]\n",
      "  [0 1 0 1 0 0 0 1 0 0]\n",
      "  [1 0 0 0 1 0 1 0 0 0]\n",
      "  [0 0 1 0 0 0 0 0 0 1]]\n",
      "\n",
      " [[0 0 1 0 1 0 0 1 0 0]\n",
      "  [1 0 0 0 0 0 0 0 1 0]\n",
      "  [0 0 0 1 0 1 0 0 0 1]\n",
      "  [0 1 0 0 0 0 1 0 0 0]]\n",
      "\n",
      " [[0 0 0 1 0 0 1 1 0 0]\n",
      "  [1 0 0 0 0 1 0 0 0 0]\n",
      "  [0 1 0 0 1 0 0 0 0 1]\n",
      "  [0 0 1 0 0 0 0 0 1 0]]\n",
      "\n",
      " [[0 0 1 0 0 1 0 0 0 0]\n",
      "  [0 1 0 0 1 0 0 0 0 1]\n",
      "  [1 0 0 0 0 0 1 0 1 0]\n",
      "  [0 0 0 1 0 0 0 1 0 0]]\n",
      "\n",
      " [[1 0 0 0 1 0 0 0 0 0]\n",
      "  [0 1 0 0 0 0 0 1 0 0]\n",
      "  [0 0 1 0 0 0 1 0 0 1]\n",
      "  [0 0 0 1 0 1 0 0 1 0]]\n",
      "\n",
      " [[0 1 0 0 1 0 0 0 0 1]\n",
      "  [1 0 0 0 0 0 1 0 1 0]\n",
      "  [0 0 1 0 0 1 0 0 0 0]\n",
      "  [0 0 0 1 0 0 0 1 0 0]]\n",
      "\n",
      " [[0 0 0 1 0 0 0 0 1 0]\n",
      "  [1 0 0 0 1 0 0 1 0 0]\n",
      "  [0 1 0 0 0 1 0 0 0 1]\n",
      "  [0 0 1 0 0 0 1 0 0 0]]\n",
      "\n",
      " [[1 0 0 0 0 1 0 0 0 0]\n",
      "  [0 1 0 0 0 0 1 0 0 1]\n",
      "  [0 0 1 0 0 0 0 1 0 0]\n",
      "  [0 0 0 1 1 0 0 0 1 0]]]\n"
     ]
    }
   ],
   "source": [
    "enc_data = one_hot(\"C:\\\\Users\\\\sdelozi\\\\projects\\\\CS_590_HW\\\\p2\\\\enc\\\\ex_enc.txt\")\n",
    "# 60/40 split\n",
    "enc_train_data, enc_test_data = np.split(enc_data, [int(0.6 * len(enc_data))])\n",
    "print(enc_data, enc_train_data, enc_test_data)"
   ]
  },
  {
   "cell_type": "code",
   "execution_count": 11,
   "metadata": {},
   "outputs": [],
   "source": [
    "# Converting the data to tensor type and floating point type\n",
    "\n",
    "tensor_train_data = torch.from_numpy(enc_train_data).float()\n",
    "tensor_test_data = torch.from_numpy(enc_test_data).float()"
   ]
  },
  {
   "cell_type": "code",
   "execution_count": 12,
   "metadata": {},
   "outputs": [
    {
     "name": "stdout",
     "output_type": "stream",
     "text": [
      "torch.Size([12, 4, 10])\n",
      "torch.float32\n"
     ]
    }
   ],
   "source": [
    "print(tensor_train_data.shape)\n",
    "print(tensor_test_data.dtype)"
   ]
  },
  {
   "cell_type": "code",
   "execution_count": 13,
   "metadata": {},
   "outputs": [
    {
     "name": "stdout",
     "output_type": "stream",
     "text": [
      "int32\n",
      "torch.int32\n"
     ]
    }
   ],
   "source": [
    "# Creating random binary labels. and converting it to tensor\n",
    "\n",
    "label_test = np.random.choice([0, 1], size=len(tensor_test_data))\n",
    "label_train = np.random.choice([0, 1], size=len(tensor_train_data))\n",
    "\n",
    "print(label_train.dtype)\n",
    "label_test = torch.from_numpy(label_test)\n",
    "label_train = torch.from_numpy(label_train)\n",
    "print(label_test.dtype)"
   ]
  },
  {
   "cell_type": "code",
   "execution_count": 14,
   "metadata": {},
   "outputs": [],
   "source": [
    "\n",
    "# The most important class, a custom data loader, understand how it is working.\n",
    "\n",
    "class data_class(Dataset):\n",
    "    def __init__(self,data,label):\n",
    "        self.data=data\n",
    "        self.labels=torch.tensor(label)\n",
    "\n",
    "    def __len__(self):\n",
    "        return len(self.data) \n",
    "    \n",
    "    def __getitem__(self,id):\n",
    "        data_set=self.data[id]\n",
    "        labels=self.labels[id]\n",
    "\n",
    "        return data_set,labels"
   ]
  },
  {
   "cell_type": "code",
   "execution_count": 15,
   "metadata": {},
   "outputs": [
    {
     "name": "stderr",
     "output_type": "stream",
     "text": [
      "C:\\Users\\sdelozi\\AppData\\Local\\Temp\\ipykernel_10388\\647473489.py:6: UserWarning: To copy construct from a tensor, it is recommended to use sourceTensor.clone().detach() or sourceTensor.clone().detach().requires_grad_(True), rather than torch.tensor(sourceTensor).\n",
      "  self.labels=torch.tensor(label)\n"
     ]
    }
   ],
   "source": [
    "# calling the data_class for the raw enc data\n",
    "\n",
    "train_data=data_class(tensor_train_data,label_train)\n",
    "test_data=data_class(tensor_test_data,label_test)"
   ]
  },
  {
   "cell_type": "code",
   "execution_count": 16,
   "metadata": {},
   "outputs": [],
   "source": [
    "# Creating the data loader which is going to load the data to the AI model\n",
    "\n",
    "train_dataloader=DataLoader(train_data,batch_size=2,shuffle=True)\n",
    "test_dataloader=DataLoader(test_data,batch_size=2,shuffle=True)"
   ]
  },
  {
   "cell_type": "code",
   "execution_count": 17,
   "metadata": {},
   "outputs": [],
   "source": [
    "# Instantiating the model and assigning an optimizer to the model and creating a loss function\n",
    "\n",
    "model=MiniCNN().to(device)\n",
    "optimizer=optim.Adam(params=model.parameters(),lr=0.0001)\n",
    "loss_fn = nn.CrossEntropyLoss()"
   ]
  },
  {
   "cell_type": "code",
   "execution_count": 18,
   "metadata": {},
   "outputs": [],
   "source": [
    "def train(model,device,train_dataloader,optimizer,epochs):\n",
    "    print(\"inside train\")\n",
    "    model.train()\n",
    "    for batch_ids, (seq, classes) in enumerate(train_dataloader):\n",
    "        classes=classes.type(torch.LongTensor)\n",
    "        seq,classes=seq.to(device),classes.to(device)\n",
    "        torch.autograd.set_detect_anomaly(True)     \n",
    "        optimizer.zero_grad()\n",
    "        output=model(seq)\n",
    "        loss = loss_fn(output,classes)                \n",
    "        \n",
    "        loss.backward()\n",
    "        optimizer.step()\n",
    "    if(batch_ids +1) % 2 == 0:\n",
    "        print(\"Train Epoch: {} [{}/{} ({:.0f}%)]\\tLoss: {:.6f}\".format(\n",
    "            epochs, batch_ids* len(seq), len(train_dataloader.dataset),\n",
    "            100.*batch_ids / len(train_dataloader),loss.item()))"
   ]
  },
  {
   "cell_type": "code",
   "execution_count": 19,
   "metadata": {},
   "outputs": [],
   "source": [
    "def test(model, device, test_dataloader):\n",
    "    model.eval()\n",
    "    test_loss=0\n",
    "    correct=0\n",
    "    with torch.no_grad():\n",
    "        for seq,classes in test_dataloader:\n",
    "            seq,classes=seq.to(device), classes.to(device)\n",
    "            y_hat=model(seq)\n",
    "            test_loss+=F.nll_loss(y_hat,classes,reduction='sum').item()\n",
    "            _,y_pred=torch.max(y_hat,1)\n",
    "            correct+=(y_pred==classes).sum().item()\n",
    "        test_loss/=len(test_dataloader)\n",
    "        print(\"\\n Test set: Avarage loss: {:.0f},Accuracy:{}/{} ({:.0f}%)\\n\".format(\n",
    "            test_loss,correct,len(test_dataloader),100.*correct/len(test_dataloader)))\n",
    "        print('='*30)"
   ]
  },
  {
   "cell_type": "code",
   "execution_count": 22,
   "metadata": {},
   "outputs": [
    {
     "name": "stdout",
     "output_type": "stream",
     "text": [
      "inside train\n"
     ]
    },
    {
     "ename": "RuntimeError",
     "evalue": "max_pool1d() Invalid computed output size: 0",
     "output_type": "error",
     "traceback": [
      "\u001b[1;31m---------------------------------------------------------------------------\u001b[0m",
      "\u001b[1;31mRuntimeError\u001b[0m                              Traceback (most recent call last)",
      "Cell \u001b[1;32mIn[22], line 10\u001b[0m\n\u001b[0;32m      7\u001b[0m EPOCHS\u001b[38;5;241m=\u001b[39m\u001b[38;5;241m2\u001b[39m\n\u001b[0;32m      9\u001b[0m \u001b[38;5;28;01mfor\u001b[39;00m epoch \u001b[38;5;129;01min\u001b[39;00m \u001b[38;5;28mrange\u001b[39m(\u001b[38;5;241m1\u001b[39m,EPOCHS\u001b[38;5;241m+\u001b[39m\u001b[38;5;241m1\u001b[39m):\n\u001b[1;32m---> 10\u001b[0m     \u001b[43mtrain\u001b[49m\u001b[43m(\u001b[49m\u001b[43mmodel\u001b[49m\u001b[43m,\u001b[49m\u001b[43mdevice\u001b[49m\u001b[43m,\u001b[49m\u001b[43mtrain_dataloader\u001b[49m\u001b[43m,\u001b[49m\u001b[43moptimizer\u001b[49m\u001b[43m,\u001b[49m\u001b[43mepoch\u001b[49m\u001b[43m)\u001b[49m\n\u001b[0;32m     11\u001b[0m     test(model,device,test_dataloader)\n",
      "Cell \u001b[1;32mIn[18], line 9\u001b[0m, in \u001b[0;36mtrain\u001b[1;34m(model, device, train_dataloader, optimizer, epochs)\u001b[0m\n\u001b[0;32m      7\u001b[0m torch\u001b[38;5;241m.\u001b[39mautograd\u001b[38;5;241m.\u001b[39mset_detect_anomaly(\u001b[38;5;28;01mTrue\u001b[39;00m)     \n\u001b[0;32m      8\u001b[0m optimizer\u001b[38;5;241m.\u001b[39mzero_grad()\n\u001b[1;32m----> 9\u001b[0m output\u001b[38;5;241m=\u001b[39m\u001b[43mmodel\u001b[49m\u001b[43m(\u001b[49m\u001b[43mseq\u001b[49m\u001b[43m)\u001b[49m\n\u001b[0;32m     10\u001b[0m loss \u001b[38;5;241m=\u001b[39m loss_fn(output,classes)                \n\u001b[0;32m     12\u001b[0m loss\u001b[38;5;241m.\u001b[39mbackward()\n",
      "File \u001b[1;32mc:\\Users\\sdelozi\\AppData\\Local\\Programs\\Python\\Python311\\Lib\\site-packages\\torch\\nn\\modules\\module.py:1511\u001b[0m, in \u001b[0;36mModule._wrapped_call_impl\u001b[1;34m(self, *args, **kwargs)\u001b[0m\n\u001b[0;32m   1509\u001b[0m     \u001b[38;5;28;01mreturn\u001b[39;00m \u001b[38;5;28mself\u001b[39m\u001b[38;5;241m.\u001b[39m_compiled_call_impl(\u001b[38;5;241m*\u001b[39margs, \u001b[38;5;241m*\u001b[39m\u001b[38;5;241m*\u001b[39mkwargs)  \u001b[38;5;66;03m# type: ignore[misc]\u001b[39;00m\n\u001b[0;32m   1510\u001b[0m \u001b[38;5;28;01melse\u001b[39;00m:\n\u001b[1;32m-> 1511\u001b[0m     \u001b[38;5;28;01mreturn\u001b[39;00m \u001b[38;5;28;43mself\u001b[39;49m\u001b[38;5;241;43m.\u001b[39;49m\u001b[43m_call_impl\u001b[49m\u001b[43m(\u001b[49m\u001b[38;5;241;43m*\u001b[39;49m\u001b[43margs\u001b[49m\u001b[43m,\u001b[49m\u001b[43m \u001b[49m\u001b[38;5;241;43m*\u001b[39;49m\u001b[38;5;241;43m*\u001b[39;49m\u001b[43mkwargs\u001b[49m\u001b[43m)\u001b[49m\n",
      "File \u001b[1;32mc:\\Users\\sdelozi\\AppData\\Local\\Programs\\Python\\Python311\\Lib\\site-packages\\torch\\nn\\modules\\module.py:1520\u001b[0m, in \u001b[0;36mModule._call_impl\u001b[1;34m(self, *args, **kwargs)\u001b[0m\n\u001b[0;32m   1515\u001b[0m \u001b[38;5;66;03m# If we don't have any hooks, we want to skip the rest of the logic in\u001b[39;00m\n\u001b[0;32m   1516\u001b[0m \u001b[38;5;66;03m# this function, and just call forward.\u001b[39;00m\n\u001b[0;32m   1517\u001b[0m \u001b[38;5;28;01mif\u001b[39;00m \u001b[38;5;129;01mnot\u001b[39;00m (\u001b[38;5;28mself\u001b[39m\u001b[38;5;241m.\u001b[39m_backward_hooks \u001b[38;5;129;01mor\u001b[39;00m \u001b[38;5;28mself\u001b[39m\u001b[38;5;241m.\u001b[39m_backward_pre_hooks \u001b[38;5;129;01mor\u001b[39;00m \u001b[38;5;28mself\u001b[39m\u001b[38;5;241m.\u001b[39m_forward_hooks \u001b[38;5;129;01mor\u001b[39;00m \u001b[38;5;28mself\u001b[39m\u001b[38;5;241m.\u001b[39m_forward_pre_hooks\n\u001b[0;32m   1518\u001b[0m         \u001b[38;5;129;01mor\u001b[39;00m _global_backward_pre_hooks \u001b[38;5;129;01mor\u001b[39;00m _global_backward_hooks\n\u001b[0;32m   1519\u001b[0m         \u001b[38;5;129;01mor\u001b[39;00m _global_forward_hooks \u001b[38;5;129;01mor\u001b[39;00m _global_forward_pre_hooks):\n\u001b[1;32m-> 1520\u001b[0m     \u001b[38;5;28;01mreturn\u001b[39;00m \u001b[43mforward_call\u001b[49m\u001b[43m(\u001b[49m\u001b[38;5;241;43m*\u001b[39;49m\u001b[43margs\u001b[49m\u001b[43m,\u001b[49m\u001b[43m \u001b[49m\u001b[38;5;241;43m*\u001b[39;49m\u001b[38;5;241;43m*\u001b[39;49m\u001b[43mkwargs\u001b[49m\u001b[43m)\u001b[49m\n\u001b[0;32m   1522\u001b[0m \u001b[38;5;28;01mtry\u001b[39;00m:\n\u001b[0;32m   1523\u001b[0m     result \u001b[38;5;241m=\u001b[39m \u001b[38;5;28;01mNone\u001b[39;00m\n",
      "Cell \u001b[1;32mIn[6], line 12\u001b[0m, in \u001b[0;36mMiniCNN.forward\u001b[1;34m(self, x)\u001b[0m\n\u001b[0;32m     10\u001b[0m \u001b[38;5;28;01mdef\u001b[39;00m \u001b[38;5;21mforward\u001b[39m(\u001b[38;5;28mself\u001b[39m, x):\n\u001b[0;32m     11\u001b[0m   x \u001b[38;5;241m=\u001b[39m \u001b[38;5;28mself\u001b[39m\u001b[38;5;241m.\u001b[39mpool(torch\u001b[38;5;241m.\u001b[39mnn\u001b[38;5;241m.\u001b[39mfunctional\u001b[38;5;241m.\u001b[39mrelu(\u001b[38;5;28mself\u001b[39m\u001b[38;5;241m.\u001b[39mconv1(x)))  \n\u001b[1;32m---> 12\u001b[0m   x \u001b[38;5;241m=\u001b[39m \u001b[38;5;28;43mself\u001b[39;49m\u001b[38;5;241;43m.\u001b[39;49m\u001b[43mpool\u001b[49m\u001b[43m(\u001b[49m\u001b[43mtorch\u001b[49m\u001b[38;5;241;43m.\u001b[39;49m\u001b[43mnn\u001b[49m\u001b[38;5;241;43m.\u001b[39;49m\u001b[43mfunctional\u001b[49m\u001b[38;5;241;43m.\u001b[39;49m\u001b[43mrelu\u001b[49m\u001b[43m(\u001b[49m\u001b[38;5;28;43mself\u001b[39;49m\u001b[38;5;241;43m.\u001b[39;49m\u001b[43mconv2\u001b[49m\u001b[43m(\u001b[49m\u001b[43mx\u001b[49m\u001b[43m)\u001b[49m\u001b[43m)\u001b[49m\u001b[43m)\u001b[49m \n\u001b[0;32m     13\u001b[0m   x \u001b[38;5;241m=\u001b[39m x\u001b[38;5;241m.\u001b[39mview(\u001b[38;5;241m-\u001b[39m\u001b[38;5;241m1\u001b[39m,\u001b[38;5;241m16\u001b[39m \u001b[38;5;241m*\u001b[39m \u001b[38;5;241m5\u001b[39m \u001b[38;5;241m*\u001b[39m \u001b[38;5;241m5\u001b[39m)  \n\u001b[0;32m     14\u001b[0m   x \u001b[38;5;241m=\u001b[39m torch\u001b[38;5;241m.\u001b[39mnn\u001b[38;5;241m.\u001b[39mfunctional\u001b[38;5;241m.\u001b[39mrelu(\u001b[38;5;28mself\u001b[39m\u001b[38;5;241m.\u001b[39mfc1(x))  \n",
      "File \u001b[1;32mc:\\Users\\sdelozi\\AppData\\Local\\Programs\\Python\\Python311\\Lib\\site-packages\\torch\\nn\\modules\\module.py:1511\u001b[0m, in \u001b[0;36mModule._wrapped_call_impl\u001b[1;34m(self, *args, **kwargs)\u001b[0m\n\u001b[0;32m   1509\u001b[0m     \u001b[38;5;28;01mreturn\u001b[39;00m \u001b[38;5;28mself\u001b[39m\u001b[38;5;241m.\u001b[39m_compiled_call_impl(\u001b[38;5;241m*\u001b[39margs, \u001b[38;5;241m*\u001b[39m\u001b[38;5;241m*\u001b[39mkwargs)  \u001b[38;5;66;03m# type: ignore[misc]\u001b[39;00m\n\u001b[0;32m   1510\u001b[0m \u001b[38;5;28;01melse\u001b[39;00m:\n\u001b[1;32m-> 1511\u001b[0m     \u001b[38;5;28;01mreturn\u001b[39;00m \u001b[38;5;28;43mself\u001b[39;49m\u001b[38;5;241;43m.\u001b[39;49m\u001b[43m_call_impl\u001b[49m\u001b[43m(\u001b[49m\u001b[38;5;241;43m*\u001b[39;49m\u001b[43margs\u001b[49m\u001b[43m,\u001b[49m\u001b[43m \u001b[49m\u001b[38;5;241;43m*\u001b[39;49m\u001b[38;5;241;43m*\u001b[39;49m\u001b[43mkwargs\u001b[49m\u001b[43m)\u001b[49m\n",
      "File \u001b[1;32mc:\\Users\\sdelozi\\AppData\\Local\\Programs\\Python\\Python311\\Lib\\site-packages\\torch\\nn\\modules\\module.py:1520\u001b[0m, in \u001b[0;36mModule._call_impl\u001b[1;34m(self, *args, **kwargs)\u001b[0m\n\u001b[0;32m   1515\u001b[0m \u001b[38;5;66;03m# If we don't have any hooks, we want to skip the rest of the logic in\u001b[39;00m\n\u001b[0;32m   1516\u001b[0m \u001b[38;5;66;03m# this function, and just call forward.\u001b[39;00m\n\u001b[0;32m   1517\u001b[0m \u001b[38;5;28;01mif\u001b[39;00m \u001b[38;5;129;01mnot\u001b[39;00m (\u001b[38;5;28mself\u001b[39m\u001b[38;5;241m.\u001b[39m_backward_hooks \u001b[38;5;129;01mor\u001b[39;00m \u001b[38;5;28mself\u001b[39m\u001b[38;5;241m.\u001b[39m_backward_pre_hooks \u001b[38;5;129;01mor\u001b[39;00m \u001b[38;5;28mself\u001b[39m\u001b[38;5;241m.\u001b[39m_forward_hooks \u001b[38;5;129;01mor\u001b[39;00m \u001b[38;5;28mself\u001b[39m\u001b[38;5;241m.\u001b[39m_forward_pre_hooks\n\u001b[0;32m   1518\u001b[0m         \u001b[38;5;129;01mor\u001b[39;00m _global_backward_pre_hooks \u001b[38;5;129;01mor\u001b[39;00m _global_backward_hooks\n\u001b[0;32m   1519\u001b[0m         \u001b[38;5;129;01mor\u001b[39;00m _global_forward_hooks \u001b[38;5;129;01mor\u001b[39;00m _global_forward_pre_hooks):\n\u001b[1;32m-> 1520\u001b[0m     \u001b[38;5;28;01mreturn\u001b[39;00m \u001b[43mforward_call\u001b[49m\u001b[43m(\u001b[49m\u001b[38;5;241;43m*\u001b[39;49m\u001b[43margs\u001b[49m\u001b[43m,\u001b[49m\u001b[43m \u001b[49m\u001b[38;5;241;43m*\u001b[39;49m\u001b[38;5;241;43m*\u001b[39;49m\u001b[43mkwargs\u001b[49m\u001b[43m)\u001b[49m\n\u001b[0;32m   1522\u001b[0m \u001b[38;5;28;01mtry\u001b[39;00m:\n\u001b[0;32m   1523\u001b[0m     result \u001b[38;5;241m=\u001b[39m \u001b[38;5;28;01mNone\u001b[39;00m\n",
      "File \u001b[1;32mc:\\Users\\sdelozi\\AppData\\Local\\Programs\\Python\\Python311\\Lib\\site-packages\\torch\\nn\\modules\\pooling.py:91\u001b[0m, in \u001b[0;36mMaxPool1d.forward\u001b[1;34m(self, input)\u001b[0m\n\u001b[0;32m     90\u001b[0m \u001b[38;5;28;01mdef\u001b[39;00m \u001b[38;5;21mforward\u001b[39m(\u001b[38;5;28mself\u001b[39m, \u001b[38;5;28minput\u001b[39m: Tensor):\n\u001b[1;32m---> 91\u001b[0m     \u001b[38;5;28;01mreturn\u001b[39;00m \u001b[43mF\u001b[49m\u001b[38;5;241;43m.\u001b[39;49m\u001b[43mmax_pool1d\u001b[49m\u001b[43m(\u001b[49m\u001b[38;5;28;43minput\u001b[39;49m\u001b[43m,\u001b[49m\u001b[43m \u001b[49m\u001b[38;5;28;43mself\u001b[39;49m\u001b[38;5;241;43m.\u001b[39;49m\u001b[43mkernel_size\u001b[49m\u001b[43m,\u001b[49m\u001b[43m \u001b[49m\u001b[38;5;28;43mself\u001b[39;49m\u001b[38;5;241;43m.\u001b[39;49m\u001b[43mstride\u001b[49m\u001b[43m,\u001b[49m\n\u001b[0;32m     92\u001b[0m \u001b[43m                        \u001b[49m\u001b[38;5;28;43mself\u001b[39;49m\u001b[38;5;241;43m.\u001b[39;49m\u001b[43mpadding\u001b[49m\u001b[43m,\u001b[49m\u001b[43m \u001b[49m\u001b[38;5;28;43mself\u001b[39;49m\u001b[38;5;241;43m.\u001b[39;49m\u001b[43mdilation\u001b[49m\u001b[43m,\u001b[49m\u001b[43m \u001b[49m\u001b[43mceil_mode\u001b[49m\u001b[38;5;241;43m=\u001b[39;49m\u001b[38;5;28;43mself\u001b[39;49m\u001b[38;5;241;43m.\u001b[39;49m\u001b[43mceil_mode\u001b[49m\u001b[43m,\u001b[49m\n\u001b[0;32m     93\u001b[0m \u001b[43m                        \u001b[49m\u001b[43mreturn_indices\u001b[49m\u001b[38;5;241;43m=\u001b[39;49m\u001b[38;5;28;43mself\u001b[39;49m\u001b[38;5;241;43m.\u001b[39;49m\u001b[43mreturn_indices\u001b[49m\u001b[43m)\u001b[49m\n",
      "File \u001b[1;32mc:\\Users\\sdelozi\\AppData\\Local\\Programs\\Python\\Python311\\Lib\\site-packages\\torch\\_jit_internal.py:499\u001b[0m, in \u001b[0;36mboolean_dispatch.<locals>.fn\u001b[1;34m(*args, **kwargs)\u001b[0m\n\u001b[0;32m    497\u001b[0m     \u001b[38;5;28;01mreturn\u001b[39;00m if_true(\u001b[38;5;241m*\u001b[39margs, \u001b[38;5;241m*\u001b[39m\u001b[38;5;241m*\u001b[39mkwargs)\n\u001b[0;32m    498\u001b[0m \u001b[38;5;28;01melse\u001b[39;00m:\n\u001b[1;32m--> 499\u001b[0m     \u001b[38;5;28;01mreturn\u001b[39;00m \u001b[43mif_false\u001b[49m\u001b[43m(\u001b[49m\u001b[38;5;241;43m*\u001b[39;49m\u001b[43margs\u001b[49m\u001b[43m,\u001b[49m\u001b[43m \u001b[49m\u001b[38;5;241;43m*\u001b[39;49m\u001b[38;5;241;43m*\u001b[39;49m\u001b[43mkwargs\u001b[49m\u001b[43m)\u001b[49m\n",
      "File \u001b[1;32mc:\\Users\\sdelozi\\AppData\\Local\\Programs\\Python\\Python311\\Lib\\site-packages\\torch\\nn\\functional.py:710\u001b[0m, in \u001b[0;36m_max_pool1d\u001b[1;34m(input, kernel_size, stride, padding, dilation, ceil_mode, return_indices)\u001b[0m\n\u001b[0;32m    708\u001b[0m \u001b[38;5;28;01mif\u001b[39;00m stride \u001b[38;5;129;01mis\u001b[39;00m \u001b[38;5;28;01mNone\u001b[39;00m:\n\u001b[0;32m    709\u001b[0m     stride \u001b[38;5;241m=\u001b[39m torch\u001b[38;5;241m.\u001b[39mjit\u001b[38;5;241m.\u001b[39mannotate(List[\u001b[38;5;28mint\u001b[39m], [])\n\u001b[1;32m--> 710\u001b[0m \u001b[38;5;28;01mreturn\u001b[39;00m \u001b[43mtorch\u001b[49m\u001b[38;5;241;43m.\u001b[39;49m\u001b[43mmax_pool1d\u001b[49m\u001b[43m(\u001b[49m\u001b[38;5;28;43minput\u001b[39;49m\u001b[43m,\u001b[49m\u001b[43m \u001b[49m\u001b[43mkernel_size\u001b[49m\u001b[43m,\u001b[49m\u001b[43m \u001b[49m\u001b[43mstride\u001b[49m\u001b[43m,\u001b[49m\u001b[43m \u001b[49m\u001b[43mpadding\u001b[49m\u001b[43m,\u001b[49m\u001b[43m \u001b[49m\u001b[43mdilation\u001b[49m\u001b[43m,\u001b[49m\u001b[43m \u001b[49m\u001b[43mceil_mode\u001b[49m\u001b[43m)\u001b[49m\n",
      "\u001b[1;31mRuntimeError\u001b[0m: max_pool1d() Invalid computed output size: 0"
     ]
    }
   ],
   "source": [
    "# WE ARE USING RANDOM DATA SO THE TRAINING AND TESTING DOES NOT MATTER, THE AIM IS TO SHOWCASE THE USE OF A CUSTOM DATASET\n",
    "# SINCE IN PRACTICAL SENSE YOU HAVE TO CLEAN THE DATA AND LOAD THE DATA INTO THE MODEL.\n",
    "\n",
    "\n",
    "if __name__=='__main__':\n",
    "    seed=42\n",
    "    EPOCHS=2\n",
    "    \n",
    "    for epoch in range(1,EPOCHS+1):\n",
    "        train(model,device,train_dataloader,optimizer,epoch)\n",
    "        test(model,device,test_dataloader)"
   ]
  },
  {
   "cell_type": "code",
   "execution_count": null,
   "metadata": {},
   "outputs": [],
   "source": []
  }
 ],
 "metadata": {
  "kernelspec": {
   "display_name": "Python 3 (ipykernel)",
   "language": "python",
   "name": "python3"
  },
  "language_info": {
   "codemirror_mode": {
    "name": "ipython",
    "version": 3
   },
   "file_extension": ".py",
   "mimetype": "text/x-python",
   "name": "python",
   "nbconvert_exporter": "python",
   "pygments_lexer": "ipython3",
   "version": "3.11.2"
  }
 },
 "nbformat": 4,
 "nbformat_minor": 2
}
