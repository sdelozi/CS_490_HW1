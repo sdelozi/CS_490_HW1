{
 "cells": [
  {
   "cell_type": "code",
   "execution_count": 39,
   "metadata": {},
   "outputs": [],
   "source": [
    "import torch\n",
    "import torchvision\n",
    "import torchvision.datasets as datasets\n",
    "import torchvision.transforms as transforms\n",
    "import torch.optim as optim\n",
    "import torch.nn as nn\n",
    "import torch.nn.functional as F\n",
    "from torch.utils.data import Dataset, DataLoader\n",
    "#import matplotlib.pyplot as plt\n",
    "import numpy as np"
   ]
  },
  {
   "cell_type": "code",
   "execution_count": 40,
   "metadata": {},
   "outputs": [
    {
     "data": {
      "text/plain": [
       "device(type='cpu')"
      ]
     },
     "execution_count": 40,
     "metadata": {},
     "output_type": "execute_result"
    }
   ],
   "source": [
    "device=torch.device('cuda' if torch.cuda.is_available() else 'cpu')\n",
    "device"
   ]
  },
  {
   "cell_type": "code",
   "execution_count": 42,
   "metadata": {},
   "outputs": [],
   "source": [
    "class MiniCNN(torch.nn.Module):\n",
    "  def __init__(self):\n",
    "    super(MiniCNN, self).__init__()\n",
    "    self.conv1 = torch.nn.Conv1d(4, 6, kernel_size=5) \n",
    "    self.pool = torch.nn.MaxPool1d(kernel_size=2, stride=2)  \n",
    "    self.conv2 = torch.nn.Conv1d(6, 16, kernel_size=3)  \n",
    "    self.fc1 = torch.nn.Linear(16 * 28, 120)  \n",
    "    self.fc2 = torch.nn.Linear(120, 2) \n",
    "\n",
    "  def forward(self, x):\n",
    "    x = self.pool(torch.nn.functional.relu(self.conv1(x)))  \n",
    "    x = self.pool(torch.nn.functional.relu(self.conv2(x))) \n",
    "    x = x.view(-1,16 * 28)  \n",
    "    x = torch.nn.functional.relu(self.fc1(x))  \n",
    "    x = self.fc2(x)  \n",
    "    return x"
   ]
  },
  {
   "cell_type": "code",
   "execution_count": 56,
   "metadata": {},
   "outputs": [],
   "source": [
    "# Reading in and encoding data\n",
    "def one_hot(input_file):\n",
    "    one_hot_data = np.zeros((86786, 4, 120), dtype=int)\n",
    "    seq_index = 0\n",
    "\n",
    "    with open(input_file, 'r') as inf:\n",
    "        sequences = inf.readlines()\n",
    "\n",
    "    for sequence in sequences:\n",
    "            \n",
    "        sequence = sequence.strip()\n",
    "        char_index = 0\n",
    "        \n",
    "        for char in sequence:\n",
    "            if char == 'a' or char == 'A':\n",
    "                one_hot_data[seq_index, 0, char_index] = 1\n",
    "            elif char == 'c' or char == 'C':\n",
    "                one_hot_data[seq_index, 1, char_index] = 1\n",
    "            elif char == 'g' or char == 'G':\n",
    "                one_hot_data[seq_index, 2, char_index] = 1\n",
    "            elif char == 't' or char == 'T':\n",
    "                one_hot_data[seq_index, 3, char_index] = 1\n",
    "            else:\n",
    "                print(\"encountered non-acgt\")\n",
    "            \n",
    "            char_index += 1\n",
    "        seq_index += 1\n",
    "\n",
    "    return one_hot_data"
   ]
  },
  {
   "cell_type": "code",
   "execution_count": 57,
   "metadata": {},
   "outputs": [
    {
     "name": "stdout",
     "output_type": "stream",
     "text": [
      "[[[0 1 1 ... 0 0 0]\n",
      "  [0 0 0 ... 1 1 0]\n",
      "  [0 0 0 ... 0 0 0]\n",
      "  [1 0 0 ... 0 0 1]]\n",
      "\n",
      " [[0 0 1 ... 0 0 0]\n",
      "  [1 1 0 ... 0 0 0]\n",
      "  [0 0 0 ... 0 1 0]\n",
      "  [0 0 0 ... 1 0 1]]\n",
      "\n",
      " [[0 0 0 ... 0 0 0]\n",
      "  [1 0 0 ... 0 0 0]\n",
      "  [0 1 1 ... 1 0 0]\n",
      "  [0 0 0 ... 0 1 1]]\n",
      "\n",
      " ...\n",
      "\n",
      " [[0 0 0 ... 1 0 0]\n",
      "  [0 0 1 ... 0 0 0]\n",
      "  [1 1 0 ... 0 0 0]\n",
      "  [0 0 0 ... 0 1 1]]\n",
      "\n",
      " [[0 0 0 ... 0 0 1]\n",
      "  [0 0 0 ... 0 0 0]\n",
      "  [1 0 1 ... 1 0 0]\n",
      "  [0 1 0 ... 0 1 0]]\n",
      "\n",
      " [[0 0 1 ... 1 0 0]\n",
      "  [0 0 0 ... 0 0 0]\n",
      "  [1 1 0 ... 0 1 1]\n",
      "  [0 0 0 ... 0 0 0]]] [[[0 1 1 ... 0 0 0]\n",
      "  [0 0 0 ... 1 1 0]\n",
      "  [0 0 0 ... 0 0 0]\n",
      "  [1 0 0 ... 0 0 1]]\n",
      "\n",
      " [[0 0 1 ... 0 0 0]\n",
      "  [1 1 0 ... 0 0 0]\n",
      "  [0 0 0 ... 0 1 0]\n",
      "  [0 0 0 ... 1 0 1]]\n",
      "\n",
      " [[0 0 0 ... 0 0 0]\n",
      "  [1 0 0 ... 0 0 0]\n",
      "  [0 1 1 ... 1 0 0]\n",
      "  [0 0 0 ... 0 1 1]]\n",
      "\n",
      " ...\n",
      "\n",
      " [[0 0 0 ... 1 0 0]\n",
      "  [0 1 0 ... 0 0 1]\n",
      "  [1 0 0 ... 0 1 0]\n",
      "  [0 0 1 ... 0 0 0]]\n",
      "\n",
      " [[0 1 0 ... 0 1 0]\n",
      "  [1 0 1 ... 0 0 0]\n",
      "  [0 0 0 ... 1 0 1]\n",
      "  [0 0 0 ... 0 0 0]]\n",
      "\n",
      " [[0 0 0 ... 0 0 0]\n",
      "  [1 0 0 ... 0 1 1]\n",
      "  [0 0 1 ... 0 0 0]\n",
      "  [0 1 0 ... 1 0 0]]] [[[0 0 1 ... 0 0 0]\n",
      "  [0 0 0 ... 1 0 0]\n",
      "  [0 1 0 ... 0 0 1]\n",
      "  [1 0 0 ... 0 1 0]]\n",
      "\n",
      " [[0 0 0 ... 0 0 0]\n",
      "  [1 0 0 ... 1 0 0]\n",
      "  [0 0 0 ... 0 0 1]\n",
      "  [0 1 1 ... 0 1 0]]\n",
      "\n",
      " [[1 0 1 ... 0 0 0]\n",
      "  [0 0 0 ... 0 0 1]\n",
      "  [0 1 0 ... 1 0 0]\n",
      "  [0 0 0 ... 0 1 0]]\n",
      "\n",
      " ...\n",
      "\n",
      " [[0 0 0 ... 1 0 0]\n",
      "  [0 0 1 ... 0 0 0]\n",
      "  [1 1 0 ... 0 0 0]\n",
      "  [0 0 0 ... 0 1 1]]\n",
      "\n",
      " [[0 0 0 ... 0 0 1]\n",
      "  [0 0 0 ... 0 0 0]\n",
      "  [1 0 1 ... 1 0 0]\n",
      "  [0 1 0 ... 0 1 0]]\n",
      "\n",
      " [[0 0 1 ... 1 0 0]\n",
      "  [0 0 0 ... 0 0 0]\n",
      "  [1 1 0 ... 0 1 1]\n",
      "  [0 0 0 ... 0 0 0]]]\n"
     ]
    }
   ],
   "source": [
    "enc_data = one_hot(\"C:\\\\Users\\\\sdelozi\\\\projects\\\\CS_590_HW\\\\p1\\\\pos\\\\ENCFF027BPY_pos.txt\")\n",
    "# 60/40 split\n",
    "enc_train_data, enc_test_data = np.split(enc_data, [int(0.6 * len(enc_data))])\n",
    "print(enc_data, enc_train_data, enc_test_data)"
   ]
  },
  {
   "cell_type": "code",
   "execution_count": 58,
   "metadata": {},
   "outputs": [],
   "source": [
    "# Converting the data to tensor type and floating point type\n",
    "\n",
    "tensor_train_data = torch.from_numpy(enc_train_data).float()\n",
    "tensor_test_data = torch.from_numpy(enc_test_data).float()"
   ]
  },
  {
   "cell_type": "code",
   "execution_count": 59,
   "metadata": {},
   "outputs": [
    {
     "name": "stdout",
     "output_type": "stream",
     "text": [
      "torch.Size([52071, 4, 120])\n",
      "torch.float32\n"
     ]
    }
   ],
   "source": [
    "print(tensor_train_data.shape)\n",
    "print(tensor_test_data.dtype)"
   ]
  },
  {
   "cell_type": "code",
   "execution_count": 60,
   "metadata": {},
   "outputs": [
    {
     "name": "stdout",
     "output_type": "stream",
     "text": [
      "int32\n",
      "torch.int32\n"
     ]
    }
   ],
   "source": [
    "# Creating random binary labels. and converting it to tensor\n",
    "\n",
    "label_test = np.random.choice([0, 1], size=len(tensor_test_data))\n",
    "label_train = np.random.choice([0, 1], size=len(tensor_train_data))\n",
    "\n",
    "print(label_train.dtype)\n",
    "label_test = torch.from_numpy(label_test)\n",
    "label_train = torch.from_numpy(label_train)\n",
    "print(label_test.dtype)"
   ]
  },
  {
   "cell_type": "code",
   "execution_count": 61,
   "metadata": {},
   "outputs": [],
   "source": [
    "\n",
    "# The most important class, a custom data loader, understand how it is working.\n",
    "\n",
    "class data_class(Dataset):\n",
    "    def __init__(self,data,label):\n",
    "        self.data=data\n",
    "        self.labels=torch.tensor(label)\n",
    "\n",
    "    def __len__(self):\n",
    "        return len(self.data) \n",
    "    \n",
    "    def __getitem__(self,id):\n",
    "        data_set=self.data[id]\n",
    "        labels=self.labels[id]\n",
    "\n",
    "        return data_set,labels"
   ]
  },
  {
   "cell_type": "code",
   "execution_count": 62,
   "metadata": {},
   "outputs": [
    {
     "name": "stderr",
     "output_type": "stream",
     "text": [
      "C:\\Users\\sdelozi\\AppData\\Local\\Temp\\ipykernel_21516\\265336592.py:6: UserWarning: To copy construct from a tensor, it is recommended to use sourceTensor.clone().detach() or sourceTensor.clone().detach().requires_grad_(True), rather than torch.tensor(sourceTensor).\n",
      "  self.labels=torch.tensor(label)\n"
     ]
    }
   ],
   "source": [
    "# calling the data_class for the raw enc data\n",
    "\n",
    "train_data=data_class(tensor_train_data,label_train)\n",
    "test_data=data_class(tensor_test_data,label_test)"
   ]
  },
  {
   "cell_type": "code",
   "execution_count": 63,
   "metadata": {},
   "outputs": [],
   "source": [
    "# Creating the data loader which is going to load the data to the AI model\n",
    "\n",
    "train_dataloader=DataLoader(train_data,batch_size=2,shuffle=True)\n",
    "test_dataloader=DataLoader(test_data,batch_size=2,shuffle=True)"
   ]
  },
  {
   "cell_type": "code",
   "execution_count": 64,
   "metadata": {},
   "outputs": [],
   "source": [
    "# Instantiating the model and assigning an optimizer to the model and creating a loss function\n",
    "\n",
    "model=MiniCNN().to(device)\n",
    "optimizer=optim.Adam(params=model.parameters(),lr=0.0001)\n",
    "loss_fn = nn.CrossEntropyLoss()"
   ]
  },
  {
   "cell_type": "code",
   "execution_count": 65,
   "metadata": {},
   "outputs": [],
   "source": [
    "def train(model,device,train_dataloader,optimizer,epochs):\n",
    "    print(\"inside train\")\n",
    "    model.train()\n",
    "    for batch_ids, (seq, classes) in enumerate(train_dataloader):\n",
    "        classes=classes.type(torch.LongTensor)\n",
    "        seq,classes=seq.to(device),classes.to(device)\n",
    "        torch.autograd.set_detect_anomaly(True)     \n",
    "        optimizer.zero_grad()\n",
    "        output=model(seq)\n",
    "        loss = loss_fn(output,classes)                \n",
    "        \n",
    "        loss.backward()\n",
    "        optimizer.step()\n",
    "    if(batch_ids +1) % 2 == 0:\n",
    "        print(\"Train Epoch: {} [{}/{} ({:.0f}%)]\\tLoss: {:.6f}\".format(\n",
    "            epochs, batch_ids* len(seq), len(train_dataloader.dataset),\n",
    "            100.*batch_ids / len(train_dataloader),loss.item()))"
   ]
  },
  {
   "cell_type": "code",
   "execution_count": 66,
   "metadata": {},
   "outputs": [],
   "source": [
    "def test(model, device, test_dataloader):\n",
    "    model.eval()\n",
    "    test_loss=0\n",
    "    correct=0\n",
    "    with torch.no_grad():\n",
    "        for seq,classes in test_dataloader:\n",
    "            seq,classes=seq.to(device), classes.to(device)\n",
    "            y_hat=model(seq)\n",
    "            test_loss+=F.nll_loss(y_hat,classes,reduction='sum').item()\n",
    "            _,y_pred=torch.max(y_hat,1)\n",
    "            correct+=(y_pred==classes).sum().item()\n",
    "        test_loss/=len(test_dataloader)\n",
    "        print(\"\\n Test set: Avarage loss: {:.0f},Accuracy:{}/{} ({:.0f}%)\\n\".format(\n",
    "            test_loss,correct,len(test_dataloader),100.*correct/len(test_dataloader)))\n",
    "        print('='*30)"
   ]
  },
  {
   "cell_type": "code",
   "execution_count": 67,
   "metadata": {},
   "outputs": [
    {
     "name": "stdout",
     "output_type": "stream",
     "text": [
      "inside train\n"
     ]
    }
   ],
   "source": [
    "# WE ARE USING RANDOM DATA SO THE TRAINING AND TESTING DOES NOT MATTER, THE AIM IS TO SHOWCASE THE USE OF A CUSTOM DATASET\n",
    "# SINCE IN PRACTICAL SENSE YOU HAVE TO CLEAN THE DATA AND LOAD THE DATA INTO THE MODEL.\n",
    "\n",
    "\n",
    "if __name__=='__main__':\n",
    "    seed=42\n",
    "    EPOCHS=2\n",
    "    \n",
    "    for epoch in range(1,EPOCHS+1):\n",
    "        train(model,device,train_dataloader,optimizer,epoch)\n",
    "        test(model,device,test_dataloader)"
   ]
  },
  {
   "cell_type": "code",
   "execution_count": null,
   "metadata": {},
   "outputs": [],
   "source": []
  }
 ],
 "metadata": {
  "kernelspec": {
   "display_name": "Python 3 (ipykernel)",
   "language": "python",
   "name": "python3"
  },
  "language_info": {
   "codemirror_mode": {
    "name": "ipython",
    "version": 3
   },
   "file_extension": ".py",
   "mimetype": "text/x-python",
   "name": "python",
   "nbconvert_exporter": "python",
   "pygments_lexer": "ipython3",
   "version": "3.11.2"
  }
 },
 "nbformat": 4,
 "nbformat_minor": 2
}
