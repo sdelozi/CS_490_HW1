{
 "cells": [
  {
   "cell_type": "code",
   "execution_count": 113,
   "metadata": {},
   "outputs": [],
   "source": [
    "import torch\n",
    "import torchvision\n",
    "import torchvision.datasets as datasets\n",
    "import torchvision.transforms as transforms\n",
    "import torch.optim as optim\n",
    "import torch.nn as nn\n",
    "import torch.nn.functional as F\n",
    "from torch.utils.data import Dataset, DataLoader\n",
    "#import matplotlib.pyplot as plt\n",
    "import numpy as np"
   ]
  },
  {
   "cell_type": "code",
   "execution_count": 114,
   "metadata": {},
   "outputs": [],
   "source": [
    "device=torch.device('cuda' if torch.cuda.is_available() else 'cpu')\n",
    "device\n",
    "CLASSES = 2"
   ]
  },
  {
   "cell_type": "code",
   "execution_count": 115,
   "metadata": {},
   "outputs": [],
   "source": [
    "class MiniCNN(torch.nn.Module):\n",
    "  def __init__(self):\n",
    "    super(MiniCNN, self).__init__()\n",
    "    self.conv1 = torch.nn.Conv1d(4, 6, kernel_size=5) \n",
    "    self.pool = torch.nn.MaxPool1d(kernel_size=2, stride=2)  \n",
    "    self.conv2 = torch.nn.Conv1d(6, 16, kernel_size=3)  \n",
    "    self.fc1 = torch.nn.Linear(16 * 528, 120)  \n",
    "    self.fc2 = torch.nn.Linear(120, 2) \n",
    "\n",
    "  def forward(self, x):\n",
    "    x = self.pool(torch.nn.functional.relu(self.conv1(x)))  \n",
    "    x = self.pool(torch.nn.functional.relu(self.conv2(x))) \n",
    "    x = x.view(-1,16 * 528)  \n",
    "    x = torch.nn.functional.relu(self.fc1(x))  \n",
    "    x = self.fc2(x)  \n",
    "    return x"
   ]
  },
  {
   "cell_type": "code",
   "execution_count": 116,
   "metadata": {},
   "outputs": [],
   "source": [
    "def analyze_data(input_file):\n",
    "    sequence_length = None\n",
    "    num_sequences = 0\n",
    "\n",
    "    with open(input_file, 'r') as file:\n",
    "        for line in file:\n",
    "            line = line.strip().split()\n",
    "            if sequence_length is None:\n",
    "                sequence_length = len(line[0])\n",
    "            elif len(line[0]) != sequence_length:\n",
    "                print(\"Error: Sequences have different lengths.\")\n",
    "                return\n",
    "\n",
    "            num_sequences += 1\n",
    "\n",
    "    return num_sequences, sequence_length"
   ]
  },
  {
   "cell_type": "code",
   "execution_count": 117,
   "metadata": {},
   "outputs": [],
   "source": [
    "# Reading in and encoding data\n",
    "def one_hot(input_file, seq_len, num_seq):\n",
    "    one_hot_data = np.zeros((num_seq, 4, seq_len), dtype=int)\n",
    "    seq_index = 0\n",
    "\n",
    "    with open(input_file, 'r') as inf:\n",
    "        sequences = list(i.split('\\t')[0] for i in inf)\n",
    "\n",
    "    for sequence in sequences:\n",
    "            \n",
    "        sequence = sequence.strip()\n",
    "        char_index = 0\n",
    "        \n",
    "        for char in sequence:\n",
    "            if char == 'a' or char == 'A':\n",
    "                one_hot_data[seq_index, 0, char_index] = 1\n",
    "            elif char == 'c' or char == 'C':\n",
    "                one_hot_data[seq_index, 1, char_index] = 1\n",
    "            elif char == 'g' or char == 'G':\n",
    "                one_hot_data[seq_index, 2, char_index] = 1\n",
    "            elif char == 't' or char == 'T':\n",
    "                one_hot_data[seq_index, 3, char_index] = 1\n",
    "            else:\n",
    "                print(\"encountered non-acgt\")\n",
    "            \n",
    "            char_index += 1\n",
    "        seq_index += 1\n",
    "\n",
    "    return one_hot_data"
   ]
  },
  {
   "cell_type": "code",
   "execution_count": 118,
   "metadata": {},
   "outputs": [
    {
     "name": "stdout",
     "output_type": "stream",
     "text": [
      "/users/sdelozi\n",
      "ENCFF027BPY_pos_enc.txt  ex_enc.txt  FinalFileSmall.txt  T-cell-test.tsv\n"
     ]
    }
   ],
   "source": [
    "! pwd\n",
    "! ls CS_590_HW/p2/enc/"
   ]
  },
  {
   "cell_type": "code",
   "execution_count": 119,
   "metadata": {},
   "outputs": [
    {
     "name": "stdout",
     "output_type": "stream",
     "text": [
      "[[[0 0 0 ... 0 1 0]\n",
      "  [1 0 0 ... 1 0 1]\n",
      "  [0 1 0 ... 0 0 0]\n",
      "  [0 0 1 ... 0 0 0]]\n",
      "\n",
      " [[0 0 0 ... 1 0 0]\n",
      "  [0 1 1 ... 0 0 0]\n",
      "  [0 0 0 ... 0 1 0]\n",
      "  [1 0 0 ... 0 0 1]]\n",
      "\n",
      " [[0 0 0 ... 0 1 0]\n",
      "  [1 0 0 ... 1 0 1]\n",
      "  [0 1 0 ... 0 0 0]\n",
      "  [0 0 1 ... 0 0 0]]\n",
      "\n",
      " ...\n",
      "\n",
      " [[0 0 0 ... 1 0 0]\n",
      "  [0 1 1 ... 0 0 0]\n",
      "  [0 0 0 ... 0 1 0]\n",
      "  [1 0 0 ... 0 0 1]]\n",
      "\n",
      " [[0 0 0 ... 0 1 0]\n",
      "  [1 0 0 ... 1 0 1]\n",
      "  [0 1 0 ... 0 0 0]\n",
      "  [0 0 1 ... 0 0 0]]\n",
      "\n",
      " [[0 0 0 ... 1 0 0]\n",
      "  [0 1 1 ... 0 0 0]\n",
      "  [0 0 0 ... 0 1 0]\n",
      "  [1 0 0 ... 0 0 1]]] [[[0 0 0 ... 0 1 0]\n",
      "  [1 0 0 ... 1 0 1]\n",
      "  [0 1 0 ... 0 0 0]\n",
      "  [0 0 1 ... 0 0 0]]\n",
      "\n",
      " [[0 0 0 ... 1 0 0]\n",
      "  [0 1 1 ... 0 0 0]\n",
      "  [0 0 0 ... 0 1 0]\n",
      "  [1 0 0 ... 0 0 1]]\n",
      "\n",
      " [[0 0 0 ... 0 1 0]\n",
      "  [1 0 0 ... 1 0 1]\n",
      "  [0 1 0 ... 0 0 0]\n",
      "  [0 0 1 ... 0 0 0]]\n",
      "\n",
      " ...\n",
      "\n",
      " [[0 0 0 ... 1 0 0]\n",
      "  [0 1 1 ... 0 0 0]\n",
      "  [0 0 0 ... 0 1 0]\n",
      "  [1 0 0 ... 0 0 1]]\n",
      "\n",
      " [[0 0 0 ... 0 1 0]\n",
      "  [1 0 0 ... 1 0 1]\n",
      "  [0 1 0 ... 0 0 0]\n",
      "  [0 0 1 ... 0 0 0]]\n",
      "\n",
      " [[0 0 0 ... 1 0 0]\n",
      "  [0 1 1 ... 0 0 0]\n",
      "  [0 0 0 ... 0 1 0]\n",
      "  [1 0 0 ... 0 0 1]]] [[[0 0 0 ... 0 1 0]\n",
      "  [1 0 0 ... 1 0 1]\n",
      "  [0 1 0 ... 0 0 0]\n",
      "  [0 0 1 ... 0 0 0]]\n",
      "\n",
      " [[0 0 0 ... 1 0 0]\n",
      "  [0 1 1 ... 0 0 0]\n",
      "  [0 0 0 ... 0 1 0]\n",
      "  [1 0 0 ... 0 0 1]]\n",
      "\n",
      " [[0 0 0 ... 0 1 0]\n",
      "  [1 0 0 ... 1 0 1]\n",
      "  [0 1 0 ... 0 0 0]\n",
      "  [0 0 1 ... 0 0 0]]\n",
      "\n",
      " ...\n",
      "\n",
      " [[0 0 0 ... 1 0 0]\n",
      "  [0 1 1 ... 0 0 0]\n",
      "  [0 0 0 ... 0 1 0]\n",
      "  [1 0 0 ... 0 0 1]]\n",
      "\n",
      " [[0 0 0 ... 0 1 0]\n",
      "  [1 0 0 ... 1 0 1]\n",
      "  [0 1 0 ... 0 0 0]\n",
      "  [0 0 1 ... 0 0 0]]\n",
      "\n",
      " [[0 0 0 ... 1 0 0]\n",
      "  [0 1 1 ... 0 0 0]\n",
      "  [0 0 0 ... 0 1 0]\n",
      "  [1 0 0 ... 0 0 1]]]\n"
     ]
    }
   ],
   "source": [
    "filein = \"/users/sdelozi/CS_590_HW/p2/enc/T-cell-test.tsv\"\n",
    "num_seq, seq_len = analyze_data(filein)\n",
    "enc_data = one_hot(filein, seq_len, num_seq)\n",
    "with open(filein, 'r') as inf:\n",
    "    labels = np.array(list(float(i.split('\\t')[1][:1]) for i in inf))\n",
    "\n",
    "# 60/40 split\n",
    "enc_train_data, enc_test_data = np.split(enc_data, [int(0.6 * len(enc_data))])\n",
    "label_train, label_test = np.split(labels, [int(0.6 * len(labels))])\n",
    "print(enc_data, enc_train_data, enc_test_data)"
   ]
  },
  {
   "cell_type": "code",
   "execution_count": 120,
   "metadata": {},
   "outputs": [],
   "source": [
    "# Converting the data to tensor type and floating point type\n",
    "\n",
    "tensor_train_data = torch.from_numpy(enc_train_data).float()\n",
    "tensor_test_data = torch.from_numpy(enc_test_data).float()"
   ]
  },
  {
   "cell_type": "code",
   "execution_count": 121,
   "metadata": {},
   "outputs": [
    {
     "name": "stdout",
     "output_type": "stream",
     "text": [
      "torch.Size([60, 4, 1066])\n",
      "torch.float32\n"
     ]
    }
   ],
   "source": [
    "print(tensor_train_data.shape)\n",
    "print(tensor_test_data.dtype)"
   ]
  },
  {
   "cell_type": "code",
   "execution_count": 122,
   "metadata": {},
   "outputs": [],
   "source": [
    "\n",
    "# The most important class, a custom data loader\n",
    "\n",
    "class data_class(Dataset):\n",
    "    def __init__(self,data,label):\n",
    "        self.data=data\n",
    "        self.labels=torch.tensor(label)\n",
    "\n",
    "    def __len__(self):\n",
    "        return len(self.data) \n",
    "    \n",
    "    def __getitem__(self,id):\n",
    "        data_set=self.data[id]\n",
    "        labels=self.labels[id]\n",
    "\n",
    "        return data_set,labels"
   ]
  },
  {
   "cell_type": "code",
   "execution_count": 123,
   "metadata": {},
   "outputs": [],
   "source": [
    "# calling the data_class for the raw enc data\n",
    "\n",
    "train_data=data_class(tensor_train_data,label_train)\n",
    "test_data=data_class(tensor_test_data,label_test)"
   ]
  },
  {
   "cell_type": "code",
   "execution_count": 124,
   "metadata": {},
   "outputs": [],
   "source": [
    "# Creating the data loader which is going to load the data to the AI model\n",
    "\n",
    "train_dataloader=DataLoader(train_data,batch_size=2,shuffle=True)\n",
    "test_dataloader=DataLoader(test_data,batch_size=2,shuffle=True)"
   ]
  },
  {
   "cell_type": "code",
   "execution_count": 125,
   "metadata": {},
   "outputs": [],
   "source": [
    "# Instantiating the model and assigning an optimizer to the model and creating a loss function\n",
    "\n",
    "model=MiniCNN().to(device)\n",
    "optimizer=optim.Adam(params=model.parameters(),lr=0.0001)\n",
    "loss_fn = nn.CrossEntropyLoss()"
   ]
  },
  {
   "cell_type": "code",
   "execution_count": 126,
   "metadata": {},
   "outputs": [],
   "source": [
    "def train(model,device,train_dataloader,optimizer,epochs):\n",
    "    print(\"inside train\")\n",
    "    model.train()\n",
    "    for batch_ids, (seq, classes) in enumerate(train_dataloader):\n",
    "        classes=classes.type(torch.LongTensor)\n",
    "        seq,classes=seq.to(device),classes.to(device)\n",
    "        torch.autograd.set_detect_anomaly(True)     \n",
    "        optimizer.zero_grad()\n",
    "        output=model(seq)\n",
    "        loss = loss_fn(output,classes)                \n",
    "        \n",
    "        loss.backward()\n",
    "        optimizer.step()\n",
    "    if(batch_ids +1) % 2 == 0:\n",
    "        print(\"Train Epoch: {} [{}/{} ({:.0f}%)]\\tLoss: {:.6f}\".format(\n",
    "            epochs, batch_ids* len(seq), len(train_dataloader.dataset),\n",
    "            100.*batch_ids / len(train_dataloader),loss.item()))"
   ]
  },
  {
   "cell_type": "code",
   "execution_count": 127,
   "metadata": {},
   "outputs": [],
   "source": [
    "def test(model, device, test_dataloader):\n",
    "    model.eval()\n",
    "    test_loss=0\n",
    "    correct=0\n",
    "    with torch.no_grad():\n",
    "        for seq,classes in test_dataloader:\n",
    "            seq,classes=seq.to(device), classes.to(device)\n",
    "            y_hat=model(seq)\n",
    "            test_loss+=F.nll_loss(y_hat,classes.long(),reduction='sum').item()\n",
    "            _,y_pred=torch.max(y_hat,1)\n",
    "            correct+=(y_pred==classes).sum().item()\n",
    "        test_loss/=len(test_dataloader)\n",
    "        print(\"\\n Test set: Avarage loss: {:.0f},Accuracy:{}/{} ({:.0f}%)\\n\".format(\n",
    "            test_loss,correct,len(test_dataloader),100.*correct/len(test_dataloader)))\n",
    "        print('='*30)"
   ]
  },
  {
   "cell_type": "code",
   "execution_count": 128,
   "metadata": {},
   "outputs": [
    {
     "name": "stdout",
     "output_type": "stream",
     "text": [
      "inside train\n"
     ]
    },
    {
     "ename": "ValueError",
     "evalue": "Expected input batch_size (1) to match target batch_size (2).",
     "output_type": "error",
     "traceback": [
      "\u001b[0;31m---------------------------------------------------------------------------\u001b[0m",
      "\u001b[0;31mValueError\u001b[0m                                Traceback (most recent call last)",
      "Cell \u001b[0;32mIn[128], line 6\u001b[0m\n\u001b[1;32m      3\u001b[0m EPOCHS\u001b[38;5;241m=\u001b[39m\u001b[38;5;241m2\u001b[39m\n\u001b[1;32m      5\u001b[0m \u001b[38;5;28;01mfor\u001b[39;00m epoch \u001b[38;5;129;01min\u001b[39;00m \u001b[38;5;28mrange\u001b[39m(\u001b[38;5;241m1\u001b[39m,EPOCHS\u001b[38;5;241m+\u001b[39m\u001b[38;5;241m1\u001b[39m):\n\u001b[0;32m----> 6\u001b[0m     \u001b[43mtrain\u001b[49m\u001b[43m(\u001b[49m\u001b[43mmodel\u001b[49m\u001b[43m,\u001b[49m\u001b[43mdevice\u001b[49m\u001b[43m,\u001b[49m\u001b[43mtrain_dataloader\u001b[49m\u001b[43m,\u001b[49m\u001b[43moptimizer\u001b[49m\u001b[43m,\u001b[49m\u001b[43mepoch\u001b[49m\u001b[43m)\u001b[49m\n\u001b[1;32m      7\u001b[0m     test(model,device,test_dataloader)\n",
      "Cell \u001b[0;32mIn[126], line 10\u001b[0m, in \u001b[0;36mtrain\u001b[0;34m(model, device, train_dataloader, optimizer, epochs)\u001b[0m\n\u001b[1;32m      8\u001b[0m optimizer\u001b[38;5;241m.\u001b[39mzero_grad()\n\u001b[1;32m      9\u001b[0m output\u001b[38;5;241m=\u001b[39mmodel(seq)\n\u001b[0;32m---> 10\u001b[0m loss \u001b[38;5;241m=\u001b[39m \u001b[43mloss_fn\u001b[49m\u001b[43m(\u001b[49m\u001b[43moutput\u001b[49m\u001b[43m,\u001b[49m\u001b[43mclasses\u001b[49m\u001b[43m)\u001b[49m                \n\u001b[1;32m     12\u001b[0m loss\u001b[38;5;241m.\u001b[39mbackward()\n\u001b[1;32m     13\u001b[0m optimizer\u001b[38;5;241m.\u001b[39mstep()\n",
      "File \u001b[0;32m~/miniconda3/envs/jupyter/lib/python3.9/site-packages/torch/nn/modules/module.py:1190\u001b[0m, in \u001b[0;36mModule._call_impl\u001b[0;34m(self, *input, **kwargs)\u001b[0m\n\u001b[1;32m   1186\u001b[0m \u001b[38;5;66;03m# If we don't have any hooks, we want to skip the rest of the logic in\u001b[39;00m\n\u001b[1;32m   1187\u001b[0m \u001b[38;5;66;03m# this function, and just call forward.\u001b[39;00m\n\u001b[1;32m   1188\u001b[0m \u001b[38;5;28;01mif\u001b[39;00m \u001b[38;5;129;01mnot\u001b[39;00m (\u001b[38;5;28mself\u001b[39m\u001b[38;5;241m.\u001b[39m_backward_hooks \u001b[38;5;129;01mor\u001b[39;00m \u001b[38;5;28mself\u001b[39m\u001b[38;5;241m.\u001b[39m_forward_hooks \u001b[38;5;129;01mor\u001b[39;00m \u001b[38;5;28mself\u001b[39m\u001b[38;5;241m.\u001b[39m_forward_pre_hooks \u001b[38;5;129;01mor\u001b[39;00m _global_backward_hooks\n\u001b[1;32m   1189\u001b[0m         \u001b[38;5;129;01mor\u001b[39;00m _global_forward_hooks \u001b[38;5;129;01mor\u001b[39;00m _global_forward_pre_hooks):\n\u001b[0;32m-> 1190\u001b[0m     \u001b[38;5;28;01mreturn\u001b[39;00m \u001b[43mforward_call\u001b[49m\u001b[43m(\u001b[49m\u001b[38;5;241;43m*\u001b[39;49m\u001b[38;5;28;43minput\u001b[39;49m\u001b[43m,\u001b[49m\u001b[43m \u001b[49m\u001b[38;5;241;43m*\u001b[39;49m\u001b[38;5;241;43m*\u001b[39;49m\u001b[43mkwargs\u001b[49m\u001b[43m)\u001b[49m\n\u001b[1;32m   1191\u001b[0m \u001b[38;5;66;03m# Do not call functions when jit is used\u001b[39;00m\n\u001b[1;32m   1192\u001b[0m full_backward_hooks, non_full_backward_hooks \u001b[38;5;241m=\u001b[39m [], []\n",
      "File \u001b[0;32m~/miniconda3/envs/jupyter/lib/python3.9/site-packages/torch/nn/modules/loss.py:1174\u001b[0m, in \u001b[0;36mCrossEntropyLoss.forward\u001b[0;34m(self, input, target)\u001b[0m\n\u001b[1;32m   1173\u001b[0m \u001b[38;5;28;01mdef\u001b[39;00m \u001b[38;5;21mforward\u001b[39m(\u001b[38;5;28mself\u001b[39m, \u001b[38;5;28minput\u001b[39m: Tensor, target: Tensor) \u001b[38;5;241m-\u001b[39m\u001b[38;5;241m>\u001b[39m Tensor:\n\u001b[0;32m-> 1174\u001b[0m     \u001b[38;5;28;01mreturn\u001b[39;00m \u001b[43mF\u001b[49m\u001b[38;5;241;43m.\u001b[39;49m\u001b[43mcross_entropy\u001b[49m\u001b[43m(\u001b[49m\u001b[38;5;28;43minput\u001b[39;49m\u001b[43m,\u001b[49m\u001b[43m \u001b[49m\u001b[43mtarget\u001b[49m\u001b[43m,\u001b[49m\u001b[43m \u001b[49m\u001b[43mweight\u001b[49m\u001b[38;5;241;43m=\u001b[39;49m\u001b[38;5;28;43mself\u001b[39;49m\u001b[38;5;241;43m.\u001b[39;49m\u001b[43mweight\u001b[49m\u001b[43m,\u001b[49m\n\u001b[1;32m   1175\u001b[0m \u001b[43m                           \u001b[49m\u001b[43mignore_index\u001b[49m\u001b[38;5;241;43m=\u001b[39;49m\u001b[38;5;28;43mself\u001b[39;49m\u001b[38;5;241;43m.\u001b[39;49m\u001b[43mignore_index\u001b[49m\u001b[43m,\u001b[49m\u001b[43m \u001b[49m\u001b[43mreduction\u001b[49m\u001b[38;5;241;43m=\u001b[39;49m\u001b[38;5;28;43mself\u001b[39;49m\u001b[38;5;241;43m.\u001b[39;49m\u001b[43mreduction\u001b[49m\u001b[43m,\u001b[49m\n\u001b[1;32m   1176\u001b[0m \u001b[43m                           \u001b[49m\u001b[43mlabel_smoothing\u001b[49m\u001b[38;5;241;43m=\u001b[39;49m\u001b[38;5;28;43mself\u001b[39;49m\u001b[38;5;241;43m.\u001b[39;49m\u001b[43mlabel_smoothing\u001b[49m\u001b[43m)\u001b[49m\n",
      "File \u001b[0;32m~/miniconda3/envs/jupyter/lib/python3.9/site-packages/torch/nn/functional.py:3026\u001b[0m, in \u001b[0;36mcross_entropy\u001b[0;34m(input, target, weight, size_average, ignore_index, reduce, reduction, label_smoothing)\u001b[0m\n\u001b[1;32m   3024\u001b[0m \u001b[38;5;28;01mif\u001b[39;00m size_average \u001b[38;5;129;01mis\u001b[39;00m \u001b[38;5;129;01mnot\u001b[39;00m \u001b[38;5;28;01mNone\u001b[39;00m \u001b[38;5;129;01mor\u001b[39;00m reduce \u001b[38;5;129;01mis\u001b[39;00m \u001b[38;5;129;01mnot\u001b[39;00m \u001b[38;5;28;01mNone\u001b[39;00m:\n\u001b[1;32m   3025\u001b[0m     reduction \u001b[38;5;241m=\u001b[39m _Reduction\u001b[38;5;241m.\u001b[39mlegacy_get_string(size_average, reduce)\n\u001b[0;32m-> 3026\u001b[0m \u001b[38;5;28;01mreturn\u001b[39;00m \u001b[43mtorch\u001b[49m\u001b[38;5;241;43m.\u001b[39;49m\u001b[43m_C\u001b[49m\u001b[38;5;241;43m.\u001b[39;49m\u001b[43m_nn\u001b[49m\u001b[38;5;241;43m.\u001b[39;49m\u001b[43mcross_entropy_loss\u001b[49m\u001b[43m(\u001b[49m\u001b[38;5;28;43minput\u001b[39;49m\u001b[43m,\u001b[49m\u001b[43m \u001b[49m\u001b[43mtarget\u001b[49m\u001b[43m,\u001b[49m\u001b[43m \u001b[49m\u001b[43mweight\u001b[49m\u001b[43m,\u001b[49m\u001b[43m \u001b[49m\u001b[43m_Reduction\u001b[49m\u001b[38;5;241;43m.\u001b[39;49m\u001b[43mget_enum\u001b[49m\u001b[43m(\u001b[49m\u001b[43mreduction\u001b[49m\u001b[43m)\u001b[49m\u001b[43m,\u001b[49m\u001b[43m \u001b[49m\u001b[43mignore_index\u001b[49m\u001b[43m,\u001b[49m\u001b[43m \u001b[49m\u001b[43mlabel_smoothing\u001b[49m\u001b[43m)\u001b[49m\n",
      "\u001b[0;31mValueError\u001b[0m: Expected input batch_size (1) to match target batch_size (2)."
     ]
    }
   ],
   "source": [
    "if __name__=='__main__':\n",
    "    seed=42\n",
    "    EPOCHS=2\n",
    "    \n",
    "    for epoch in range(1,EPOCHS+1):\n",
    "        train(model,device,train_dataloader,optimizer,epoch)\n",
    "        test(model,device,test_dataloader)"
   ]
  },
  {
   "cell_type": "code",
   "execution_count": null,
   "metadata": {},
   "outputs": [],
   "source": []
  }
 ],
 "metadata": {
  "kernelspec": {
   "display_name": "Python [conda env:jupyter] *",
   "language": "python",
   "name": "conda-env-jupyter-py"
  },
  "language_info": {
   "codemirror_mode": {
    "name": "ipython",
    "version": 3
   },
   "file_extension": ".py",
   "mimetype": "text/x-python",
   "name": "python",
   "nbconvert_exporter": "python",
   "pygments_lexer": "ipython3",
   "version": "3.9.18"
  }
 },
 "nbformat": 4,
 "nbformat_minor": 2
}
